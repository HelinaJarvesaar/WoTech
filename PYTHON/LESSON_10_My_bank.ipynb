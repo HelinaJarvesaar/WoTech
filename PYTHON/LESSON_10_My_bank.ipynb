{
  "nbformat": 4,
  "nbformat_minor": 0,
  "metadata": {
    "colab": {
      "provenance": []
    },
    "kernelspec": {
      "name": "python3",
      "display_name": "Python 3"
    },
    "language_info": {
      "name": "python"
    }
  },
  "cells": [
    {
      "cell_type": "code",
      "execution_count": 1,
      "metadata": {
        "id": "O-dkhYWaaUZ8"
      },
      "outputs": [],
      "source": [
        "import datetime\n",
        "\n",
        "class Client:\n",
        "  pass  #nothing happens here\n",
        "\n",
        "  number_of_clients = 0\n",
        "\n",
        "  def __init__ (self, id, name):    # i dont't require account, cause I dont want to add list\n",
        "    self.id = id                    # self.id ehk each clients id = id\n",
        "    self.name = name\n",
        "    self.accounts =[]\n",
        "    Client.number_of_clients += 1\n",
        "\n",
        "  def add_account(self, account):\n",
        "    self.accounts.append(account)    # adding new account\n",
        "\n",
        "class Account:\n",
        "  def __init__ (self, number, currency, balance = 0.0): # it will ask for blance but if we do not provide, then it is 0\n",
        "    self.number = number\n",
        "    self.currency = currency\n",
        "    self.balance = balance\n",
        "    self.transactions = []\n",
        "\n",
        "  def make_deposite(self, amount, note):    # every account can make deposit\n",
        "    self.transactions.append(Transaction(self.currency, amount, note))\n",
        "    self.balance += amount\n",
        "\n",
        "  def make_withdrawal (self,amount, note):\n",
        "    self.transactions.append(Transaction(self.currency, -amount, note))\n",
        "    self.balance -= amount  # every account can make withdarwal\n",
        "\n",
        "class Transaction:\n",
        "  def __init__(self, currency, amount, note):\n",
        "    self.currency = currency\n",
        "    self.amount = amount\n",
        "    self.note = note\n",
        "    self.time_stamp = datetime.datetime.now()  # adds automatically (google...import datetime) - when transaction is made we made transaction object and it automatically adds datetime\n",
        "                                                # in this (without parameter require) way no one can owerwrite it, its safer!\n"
      ]
    },
    {
      "cell_type": "code",
      "source": [
        "# adding clients to list\n",
        "clients = []\n",
        "clients.append(Client(\"12345\", \"Anna\"))\n",
        "clients.append(Client(\"5678\", \"Oskar\"))\n",
        "clients.append(Client(\"13567\", \"Elsa\"))"
      ],
      "metadata": {
        "id": "TdCcVO66aeNz"
      },
      "execution_count": 2,
      "outputs": []
    },
    {
      "cell_type": "code",
      "source": [
        "# adding accounts to clients\n",
        "clients[0].add_account(Account(\"EE2348598\", \"EUR\", 1000.00)) # we add account to client [0]\n",
        "clients[0].add_account(Account(\"EE3457725\", \"YPY\", 25000.00))    # we add another account to client [0]\n",
        "clients[0].add_account(Account(\"EE4330976\", \"USD\"))\n",
        "clients[1].add_account(Account(\"EE2340975\", \"PLN\", 47800.00))\n",
        "clients[2].add_account(Account(\"EE2309534\", \"SEK\", 200.18))"
      ],
      "metadata": {
        "id": "PUl0EfHjafxN"
      },
      "execution_count": 3,
      "outputs": []
    },
    {
      "cell_type": "code",
      "source": [
        "#lets make some transactions\n",
        "\n",
        "clients[0].accounts[0].make_deposite(1200, \"Salary\")  # \"Salary\" is a note\n",
        "clients[0].accounts[0].make_withdrawal(50, \"Crocery\")\n",
        "clients[0].accounts[0].make_withdrawal(140, \"Clothes\")\n",
        "clients[0].accounts[0].make_withdrawal(20, \"Dinner\")"
      ],
      "metadata": {
        "id": "3_s3THKPajh_"
      },
      "execution_count": 4,
      "outputs": []
    },
    {
      "cell_type": "code",
      "source": [
        "print(Client.number_of_clients)"
      ],
      "metadata": {
        "colab": {
          "base_uri": "https://localhost:8080/"
        },
        "id": "QfDn3a8_ajbF",
        "outputId": "9a3b7607-a823-4b8f-d8a1-660637b73458"
      },
      "execution_count": 5,
      "outputs": [
        {
          "output_type": "stream",
          "name": "stdout",
          "text": [
            "3\n"
          ]
        }
      ]
    },
    {
      "cell_type": "code",
      "source": [
        "print(clients[1].id)                  # NB! use dot . !"
      ],
      "metadata": {
        "colab": {
          "base_uri": "https://localhost:8080/"
        },
        "id": "HYVk81nkalsn",
        "outputId": "c29efa44-bd18-4e4d-ed5a-55f64d3ce835"
      },
      "execution_count": 6,
      "outputs": [
        {
          "output_type": "stream",
          "name": "stdout",
          "text": [
            "5678\n"
          ]
        }
      ]
    },
    {
      "cell_type": "code",
      "source": [
        "print(f\"We have clients in our bank:\")\n",
        "for client in clients:\n",
        "  print(f\"Clients {client.name} has the following accounts: \")\n",
        "  for account in client.accounts:\n",
        "    print(f'    {account.number} ({account.currency}) {account.balance}')\n",
        "    for transaction in account.transactions:\n",
        "      print(f\"        {transaction.time_stamp} {transaction.amount}\")"
      ],
      "metadata": {
        "colab": {
          "base_uri": "https://localhost:8080/"
        },
        "id": "uIEnnTLdanjz",
        "outputId": "83c47f99-dfc0-4da9-8fb2-44f39b9f7c70"
      },
      "execution_count": 7,
      "outputs": [
        {
          "output_type": "stream",
          "name": "stdout",
          "text": [
            "We have clients in our bank:\n",
            "Clients Anna has the following accounts: \n",
            "    EE2348598 (EUR) 1990.0\n",
            "        2024-09-28 11:36:16.167604 1200\n",
            "        2024-09-28 11:36:16.167683 -50\n",
            "        2024-09-28 11:36:16.167744 -140\n",
            "        2024-09-28 11:36:16.167802 -20\n",
            "    EE3457725 (YPY) 25000.0\n",
            "    EE4330976 (USD) 0.0\n",
            "Clients Oskar has the following accounts: \n",
            "    EE2340975 (PLN) 47800.0\n",
            "Clients Elsa has the following accounts: \n",
            "    EE2309534 (SEK) 200.18\n"
          ]
        }
      ]
    }
  ]
}