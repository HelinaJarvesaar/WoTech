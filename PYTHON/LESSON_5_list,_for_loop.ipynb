{
  "nbformat": 4,
  "nbformat_minor": 0,
  "metadata": {
    "colab": {
      "provenance": []
    },
    "kernelspec": {
      "name": "python3",
      "display_name": "Python 3"
    },
    "language_info": {
      "name": "python"
    }
  },
  "cells": [
    {
      "cell_type": "markdown",
      "source": [
        "The user is prompted to enter a fruit name using the input() function.\n",
        "\n",
        "We use an if-else statement to check if the entered fruit is present in the fruits list.\n",
        "\n",
        "If the entered fruit is in the list, it prints a confirmation message.\n",
        "\n",
        "Otherwise, it prints a message indicating that the fruit is not in the list.\n"
      ],
      "metadata": {
        "id": "mE3eFFX4KNTf"
      }
    },
    {
      "cell_type": "code",
      "execution_count": 1,
      "metadata": {
        "colab": {
          "base_uri": "https://localhost:8080/"
        },
        "id": "uIAescq1KFMU",
        "outputId": "ba2529f6-bfef-47ff-f170-0d4f1094aadb"
      },
      "outputs": [
        {
          "output_type": "stream",
          "name": "stdout",
          "text": [
            "Enter fruit: apple\n",
            "apple is in the list\n"
          ]
        }
      ],
      "source": [
        "fruits = [\"apple\", \"orange\", \"banana\", \"grapte\", \"kiwi\"]\n",
        "\n",
        "fruit = input(\"Enter fruit: \")\n",
        "if fruit in fruits:\n",
        "  print (f\"{fruit} is in the list\")\n",
        "else:\n",
        "  print (f\"{fruit} is not in the list\")"
      ]
    },
    {
      "cell_type": "markdown",
      "source": [
        "The user is prompted to enter a number using the input() function, and the input is converted to an integer using int().\n",
        "\n",
        "We first check if the entered number is in the numbers list using an if statement.\n",
        "\n",
        "If the number is in the list, we further check if it's even or odd using another if-else statement nested inside the first one.\n",
        "\n",
        "Depending on the result, it prints a message indicating whether the number is even or odd and whether it's in the list or not.\n"
      ],
      "metadata": {
        "id": "mqoOI6fAKTgP"
      }
    },
    {
      "cell_type": "code",
      "source": [
        "numbers = [1,2,3,4,5]\n",
        "\n",
        "user_number = int(input(\"Please enter a number: \"))\n",
        "\n",
        "if user_number in numbers:\n",
        "  if user_number % 2 == 0:\n",
        "    print(\"The number is even.\")\n",
        "  else:\n",
        "    print(\"The number is odd.\")\n",
        "else:\n",
        "  print(\"The number is not in the list\")"
      ],
      "metadata": {
        "colab": {
          "base_uri": "https://localhost:8080/"
        },
        "id": "Mfunro1LKaKw",
        "outputId": "72e31386-5aa0-451e-a3f6-871d0adc7dca"
      },
      "execution_count": 2,
      "outputs": [
        {
          "output_type": "stream",
          "name": "stdout",
          "text": [
            "Please enter a number: 45\n",
            "The number is not in the list\n"
          ]
        }
      ]
    },
    {
      "cell_type": "markdown",
      "source": [
        "### LIST methods"
      ],
      "metadata": {
        "id": "SKaWsj-jKptt"
      }
    },
    {
      "cell_type": "code",
      "source": [
        "# APPEND (adds item AT THE END of the list)\n",
        "\n",
        "items = [\"apple\", \"kiwi\", \"orange\"]\n",
        "print(f\"Original items {items}\")\n",
        "\n",
        "my_value = \"banana\"\n",
        "\n",
        "items.append(my_value)\n",
        "print(f\"Changed items {items}\")"
      ],
      "metadata": {
        "colab": {
          "base_uri": "https://localhost:8080/"
        },
        "id": "tswarLT9Krw1",
        "outputId": "c0d319a2-1f62-464b-f498-832794f4700e"
      },
      "execution_count": 3,
      "outputs": [
        {
          "output_type": "stream",
          "name": "stdout",
          "text": [
            "Original items ['apple', 'kiwi', 'orange']\n",
            "Changed items ['apple', 'kiwi', 'orange', 'banana']\n"
          ]
        }
      ]
    },
    {
      "cell_type": "code",
      "source": [
        "# COPY\n",
        "\n",
        "original_list = [1,2,3,4,5]\n",
        "copied_list=original_list.copy()\n",
        "\n",
        "original_list.append(6)\n",
        "\n",
        "print(original_list)\n",
        "print(copied_list)"
      ],
      "metadata": {
        "colab": {
          "base_uri": "https://localhost:8080/"
        },
        "id": "6bNk1z3gKuZ6",
        "outputId": "53e66c01-8898-402a-bcb8-6487cb09cfc3"
      },
      "execution_count": 4,
      "outputs": [
        {
          "output_type": "stream",
          "name": "stdout",
          "text": [
            "[1, 2, 3, 4, 5, 6]\n",
            "[1, 2, 3, 4, 5]\n"
          ]
        }
      ]
    },
    {
      "cell_type": "code",
      "source": [
        "# COUNT\n",
        "\n",
        "numbers =[1,2,7,6,5,5]\n",
        "\n",
        "target_number = 5\n",
        "#variant 1\n",
        "count = numbers.count(target_number)\n",
        "print(f\"The number {target_number} appears {count} times in the list.\")"
      ],
      "metadata": {
        "colab": {
          "base_uri": "https://localhost:8080/"
        },
        "id": "hSim5iPUKwRU",
        "outputId": "f46ad6d9-c7e7-441e-b97c-41363c6024bd"
      },
      "execution_count": 5,
      "outputs": [
        {
          "output_type": "stream",
          "name": "stdout",
          "text": [
            "The number 5 appears 2 times in the list.\n"
          ]
        }
      ]
    },
    {
      "cell_type": "code",
      "source": [
        "# variant 2\n",
        "numbers.count(5)\n",
        "print(f\"The number 5 appears {count} times in the list.\")"
      ],
      "metadata": {
        "colab": {
          "base_uri": "https://localhost:8080/"
        },
        "id": "yZPlTL_uKyMa",
        "outputId": "b1e3b0e6-9385-415b-9f7f-a8bea343031b"
      },
      "execution_count": 6,
      "outputs": [
        {
          "output_type": "stream",
          "name": "stdout",
          "text": [
            "The number 5 appears 2 times in the list.\n"
          ]
        }
      ]
    },
    {
      "cell_type": "code",
      "source": [
        "# INDEX - otsib mitmes element otsitu listis on\n",
        "\n",
        "fruits = [\"apple\", \"banana\", \"orange\"]\n",
        "\n",
        "fruits_index= fruits.index(\"banana\")\n",
        "\n",
        "print(f\"Index of banana is: {fruits_index}\")"
      ],
      "metadata": {
        "colab": {
          "base_uri": "https://localhost:8080/"
        },
        "id": "5shjmDsxK0WM",
        "outputId": "5f46974e-b142-4ba4-afc8-864bc2ad800a"
      },
      "execution_count": 7,
      "outputs": [
        {
          "output_type": "stream",
          "name": "stdout",
          "text": [
            "Index of banana is: 1\n"
          ]
        }
      ]
    },
    {
      "cell_type": "code",
      "source": [
        "# INSERT\n",
        "\n",
        "numbers = [1,2,3,4,5]\n",
        "\n",
        "numbers.insert(2,10)\n",
        "\n",
        "print(numbers)"
      ],
      "metadata": {
        "colab": {
          "base_uri": "https://localhost:8080/"
        },
        "id": "4u0qxnOAK14T",
        "outputId": "d0c49c58-211a-494b-b81e-b0d4364c1a91"
      },
      "execution_count": 8,
      "outputs": [
        {
          "output_type": "stream",
          "name": "stdout",
          "text": [
            "[1, 2, 10, 3, 4, 5]\n"
          ]
        }
      ]
    },
    {
      "cell_type": "code",
      "source": [
        "#POP\n",
        "\n",
        "numbers.pop(2)\n",
        "\n",
        "print(numbers)"
      ],
      "metadata": {
        "colab": {
          "base_uri": "https://localhost:8080/"
        },
        "id": "f425HeMyK3kP",
        "outputId": "54ed686d-f307-46b6-dc74-7e8017517096"
      },
      "execution_count": 9,
      "outputs": [
        {
          "output_type": "stream",
          "name": "stdout",
          "text": [
            "[1, 2, 3, 4, 5]\n"
          ]
        }
      ]
    },
    {
      "cell_type": "code",
      "source": [
        "#SORT\n",
        "\n",
        "numbers2 = [6,9,10,3,5]\n",
        "numbers2.sort()\n",
        "print(numbers2)"
      ],
      "metadata": {
        "colab": {
          "base_uri": "https://localhost:8080/"
        },
        "id": "OvtVZWmEK5i7",
        "outputId": "f047844e-e8e1-4948-9685-d5047397215c"
      },
      "execution_count": 10,
      "outputs": [
        {
          "output_type": "stream",
          "name": "stdout",
          "text": [
            "[3, 5, 6, 9, 10]\n"
          ]
        }
      ]
    },
    {
      "cell_type": "code",
      "source": [
        "# REVERSE\n",
        "\n",
        "numbers2.reverse()\n",
        "print(numbers2)"
      ],
      "metadata": {
        "colab": {
          "base_uri": "https://localhost:8080/"
        },
        "id": "KljAHUSrK7SO",
        "outputId": "e8de2917-0c0a-4b1b-a1f6-6fc7265bf1d6"
      },
      "execution_count": 11,
      "outputs": [
        {
          "output_type": "stream",
          "name": "stdout",
          "text": [
            "[10, 9, 6, 5, 3]\n"
          ]
        }
      ]
    },
    {
      "cell_type": "markdown",
      "source": [
        "Create a list of 5 number elements\n",
        "\n",
        "Calculate maximum value of the numbers\n",
        "\n",
        "Calculate minimum value of the numbers\n",
        "\n",
        "Calculate average value of numbers\n",
        "\n",
        "Check if the average value of the list if higher than 3\n",
        "\n",
        "If the average is greater than 3, print \"Average is greater than 3\",\n",
        "otherwise print \"Average is not greater than 3\".\n",
        "\n",
        "Sort the list\n",
        "\n",
        "Remove first number of the list\n",
        "\n",
        "Add your name to the list\n",
        "\n",
        "Calculate at what index is your name"
      ],
      "metadata": {
        "id": "Kl_hklsyK9lH"
      }
    },
    {
      "cell_type": "code",
      "source": [
        "# create a list of 5 elements\n",
        "\n",
        "numbers = [50, 10, 30, 20, 40]\n",
        "print(numbers)\n",
        "\n",
        "#calculate the maximum value of the numbers\n",
        "max_value = max(numbers)\n",
        "print(f'The maximum value of the numbers is {max_value}.')\n",
        "\n",
        "# calculate the minimum value of the numbers\n",
        "min_value = min(numbers)\n",
        "print(f'The minimum value of the numbers is {min_value}.')\n",
        "\n",
        "#calculate average value of numbers\n",
        "average = sum(numbers) / len(numbers)\n",
        "print(f'The average value of numbers is {average}.')\n",
        "\n",
        "\n",
        "# check if the average is higher than 3\n",
        "\n",
        "# if the average is greater than 3 print \"Average is greater than 3.\", else print \"Average is not greater than 3.\"\n",
        "if average > 3:\n",
        "    print(\"Average is greater than 3.\")\n",
        "else:\n",
        "    print(\"Average is not greater than 3.\")\n",
        "\n",
        "#sort the list\n",
        "numbers.sort()\n",
        "print(numbers)\n",
        "\n",
        "#remove the first number of the list\n",
        "numbers.pop(0)\n",
        "print(numbers)\n",
        "\n",
        "#add your name to the list\n",
        "numbers.append('Helina')\n",
        "print(numbers)\n",
        "\n",
        "#calculate at what index is your name\n",
        "index = numbers.index('Helina')\n",
        "print(f'Your name is index {index}')"
      ],
      "metadata": {
        "colab": {
          "base_uri": "https://localhost:8080/"
        },
        "id": "WYc1kGeaLGU3",
        "outputId": "b5e2965d-8d1e-4311-9a46-e5add493101d"
      },
      "execution_count": 12,
      "outputs": [
        {
          "output_type": "stream",
          "name": "stdout",
          "text": [
            "[50, 10, 30, 20, 40]\n",
            "The maximum value of the numbers is 50.\n",
            "The minimum value of the numbers is 10.\n",
            "The average value of numbers is 30.0.\n",
            "Average is greater than 3.\n",
            "[10, 20, 30, 40, 50]\n",
            "[20, 30, 40, 50]\n",
            "[20, 30, 40, 50, 'Helina']\n",
            "Your name is index 4\n"
          ]
        }
      ]
    },
    {
      "cell_type": "markdown",
      "source": [
        "### RANGE\n",
        "\n",
        "range(start, stop, step)"
      ],
      "metadata": {
        "id": "jgkytfa6LUu6"
      }
    },
    {
      "cell_type": "code",
      "source": [
        "range(7)\n",
        "\n",
        "list(range(7))\n",
        "\n",
        "list(range(1,5))\n",
        "\n",
        "list(range(0,10, 2)) # last element is not included\n",
        "\n",
        "numbers_with_range = range(1,7) # Iterable object [1,2,3,4,5,6]\n",
        "for number in numbers_with_range: # or for i in numbers_with_range\n",
        "  print(number)\n",
        "\n",
        "numbers_with_range = range(1,7)\n",
        "for number in numbers_with_range:\n",
        "  number = number * 2\n",
        "  print(number)\n",
        "\n",
        "friends = ['Anna', 'Peter', 'Erika', 'Roberta']\n",
        "for friend in friends:\n",
        "  print(f\"Hey hey {friend}!\")"
      ],
      "metadata": {
        "colab": {
          "base_uri": "https://localhost:8080/"
        },
        "id": "auNgm3_NLSJi",
        "outputId": "fd893a22-f89f-476c-d991-30be1777f306"
      },
      "execution_count": 13,
      "outputs": [
        {
          "output_type": "stream",
          "name": "stdout",
          "text": [
            "1\n",
            "2\n",
            "3\n",
            "4\n",
            "5\n",
            "6\n",
            "2\n",
            "4\n",
            "6\n",
            "8\n",
            "10\n",
            "12\n",
            "Hey hey Anna!\n",
            "Hey hey Peter!\n",
            "Hey hey Erika!\n",
            "Hey hey Roberta!\n"
          ]
        }
      ]
    },
    {
      "cell_type": "markdown",
      "source": [
        "# TEAMWORK\n",
        "\n",
        "Analyzing Numbers\n",
        "\n",
        "- Iterate through a list of 10 random numbers and determine whether each number is higher or lower than 5.\n",
        "\n",
        "Hints:\n",
        "\n",
        "Use a for loop to iterate through the list of numbers.\n",
        "\n",
        "Use if, elif, and else statements to check each number against 5."
      ],
      "metadata": {
        "id": "VF_8OpETLR5o"
      }
    },
    {
      "cell_type": "code",
      "source": [
        "numbers = [1,3,-5,7,5,11]\n",
        "\n",
        "for i in numbers:\n",
        "  if i > 5:\n",
        "    print(f\"Number {i} is higher than 5.\")\n",
        "  elif i == 5:\n",
        "    print(f\"Number {i} is equal to 5.\")\n",
        "  else:\n",
        "    print(f\"Number {i} is lower than 5.\")"
      ],
      "metadata": {
        "colab": {
          "base_uri": "https://localhost:8080/"
        },
        "id": "Npu3KazNLdUc",
        "outputId": "043f2a1a-fb4c-4b68-f4d0-94bdc2a794ec"
      },
      "execution_count": 14,
      "outputs": [
        {
          "output_type": "stream",
          "name": "stdout",
          "text": [
            "Number 1 is lower than 5.\n",
            "Number 3 is lower than 5.\n",
            "Number -5 is lower than 5.\n",
            "Number 7 is higher than 5.\n",
            "Number 5 is equal to 5.\n",
            "Number 11 is higher than 5.\n"
          ]
        }
      ]
    }
  ]
}