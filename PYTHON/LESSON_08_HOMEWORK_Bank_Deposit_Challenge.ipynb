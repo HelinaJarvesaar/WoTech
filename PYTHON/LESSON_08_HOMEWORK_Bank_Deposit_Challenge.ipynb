{
  "nbformat": 4,
  "nbformat_minor": 0,
  "metadata": {
    "colab": {
      "provenance": []
    },
    "kernelspec": {
      "name": "python3",
      "display_name": "Python 3"
    },
    "language_info": {
      "name": "python"
    }
  },
  "cells": [
    {
      "cell_type": "markdown",
      "source": [
        "###  Hard Level\n",
        "\n",
        "**Instructions:**\n",
        "\n",
        "1. Add bank withdrawal (if user wants to withdraw money the balance decreases)\n",
        "2. If the balance becomes negative, withdrawal is not possible.\n",
        "3. Add check balance optionality\n",
        "Example for hard level:\n",
        "   print(\"\\nWhat would you like to do?\")\n",
        "   print(\"1. Deposit money\")\n",
        "   print(\"2. Withdraw money\")\n",
        "   print(\"3. Check balance\")\n",
        "   print(\"4. Exit\")"
      ],
      "metadata": {
        "id": "xQFeDXD8Vx6l"
      }
    },
    {
      "cell_type": "code",
      "execution_count": 1,
      "metadata": {
        "colab": {
          "base_uri": "https://localhost:8080/"
        },
        "id": "WsDlCRGZVk3o",
        "outputId": "a8afd329-fdb5-4306-903e-f261ecf1c727"
      },
      "outputs": [
        {
          "output_type": "stream",
          "name": "stdout",
          "text": [
            "Welcome to SEB Bank.\n",
            "What would you like to do?\n",
            "1. Deposit money\n",
            "2. Withdraw money\n",
            "3. Check balance\n",
            "4. Exit\n",
            "1\n",
            "Enter the amount of money You want to deposit: 200\n",
            "What would you like to do?\n",
            "1. Deposit money\n",
            "2. Withdraw money\n",
            "3. Check balance\n",
            "4. Exit\n",
            "2\n",
            "Enter the amount of money You want to withdraw: 100\n",
            "What would you like to do?\n",
            "1. Deposit money\n",
            "2. Withdraw money\n",
            "3. Check balance\n",
            "4. Exit\n",
            "3\n",
            "Balance is: 200 euros.\n",
            "What would you like to do?\n",
            "1. Deposit money\n",
            "2. Withdraw money\n",
            "3. Check balance\n",
            "4. Exit\n",
            "4\n",
            "You exit the bank.\n"
          ]
        }
      ],
      "source": [
        "print(\"Welcome to SEB Bank.\")\n",
        "\n",
        "balance = [100]\n",
        "\n",
        "\n",
        "def deposit_money (balance):\n",
        "  deposit_amount = input(\"Enter the amount of money You want to deposit: \")\n",
        "  try:\n",
        "    deposit_amount = int (deposit_amount)\n",
        "  except:\n",
        "    print(\"Wrong input, enter a number.\")\n",
        "  else:\n",
        "    balance.append(deposit_amount)\n",
        "\n",
        "\n",
        "def withdraw_money (balance):\n",
        "  withdraw_money = input(\"Enter the amount of money You want to withdraw: \")\n",
        "  try:\n",
        "    withdraw_money = int(withdraw_money)\n",
        "  except:\n",
        "    print(\"Wrong input, enter a number.\")\n",
        "  else:\n",
        "    total_amount = sum(balance)\n",
        "    if withdraw_money > total_amount:\n",
        "      print(\"Balance becomes negative, withdrawal is not possible.\")\n",
        "    else:\n",
        "      balance.append(-withdraw_money)\n",
        "\n",
        "\n",
        "def check_balance(balance):\n",
        "  total_amount = sum(balance)\n",
        "  print(f\"Balance is: {total_amount } euros.\")\n",
        "\n",
        "\n",
        "while True:\n",
        "  choice = input(\"What would you like to do?\\n1. Deposit money\\n2. Withdraw money\\n3. Check balance\\n4. Exit\\n\")\n",
        "  try:\n",
        "    choice = int(choice)\n",
        "    if choice > 4:\n",
        "      print(\"Invalid choice. Please enter 1, 2, 3, or 4.\")\n",
        "  except:\n",
        "    print(\"Invalid choice. Please enter 1, 2, 3, or 4.\")\n",
        "  else:\n",
        "    if choice == 4:\n",
        "      print(\"You exit the bank.\")\n",
        "      break\n",
        "    elif choice == 3:\n",
        "      check_balance(balance)\n",
        "    elif choice == 2:\n",
        "      withdraw_money(balance)\n",
        "    elif choice == 1:\n",
        "      deposit_money(balance)\n",
        "    else:\n",
        "      None"
      ]
    }
  ]
}
