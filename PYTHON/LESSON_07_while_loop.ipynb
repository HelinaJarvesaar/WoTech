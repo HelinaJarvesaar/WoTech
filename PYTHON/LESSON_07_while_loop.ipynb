{
  "nbformat": 4,
  "nbformat_minor": 0,
  "metadata": {
    "colab": {
      "provenance": []
    },
    "kernelspec": {
      "name": "python3",
      "display_name": "Python 3"
    },
    "language_info": {
      "name": "python"
    }
  },
  "cells": [
    {
      "cell_type": "code",
      "execution_count": 9,
      "metadata": {
        "colab": {
          "base_uri": "https://localhost:8080/"
        },
        "id": "17qZfqMiPRCu",
        "outputId": "6a16179f-f280-4ee5-cf50-a313d1b9ec2e"
      },
      "outputs": [
        {
          "output_type": "stream",
          "name": "stdout",
          "text": [
            "Alice\n",
            "Bob\n",
            "Charlie\n",
            "David\n",
            "Eva\n"
          ]
        }
      ],
      "source": [
        "student_names = [\"Alice\", \"Bob\", \"Charlie\", \"David\", \"Eva\"]\n",
        "\n",
        "for i in student_names:\n",
        "  print (i)"
      ]
    },
    {
      "cell_type": "code",
      "source": [
        "counter = 0 # initalize the var\n",
        "\n",
        "while True: # will run until we break\n",
        "  counter = counter + 1\n",
        "  print(counter)"
      ],
      "metadata": {
        "collapsed": true,
        "id": "n42HdJ_NPk44"
      },
      "execution_count": null,
      "outputs": []
    },
    {
      "cell_type": "code",
      "source": [
        "counter = 0 # initalize the var\n",
        "\n",
        "while counter < 3:  # we break when we reach logical expression to be false\n",
        "  counter = counter + 1\n",
        "  print(counter)"
      ],
      "metadata": {
        "colab": {
          "base_uri": "https://localhost:8080/"
        },
        "id": "x19QLr4bP0up",
        "outputId": "77eedd30-2d75-40ec-9130-c6af1547a109"
      },
      "execution_count": 10,
      "outputs": [
        {
          "output_type": "stream",
          "name": "stdout",
          "text": [
            "1\n",
            "2\n",
            "3\n"
          ]
        }
      ]
    },
    {
      "cell_type": "code",
      "source": [
        "counter = 0 # initalize the var\n",
        "\n",
        "while True: # will run until we break\n",
        "  counter = counter + 1\n",
        "  print(counter)\n",
        "  break # we break the while loop here"
      ],
      "metadata": {
        "colab": {
          "base_uri": "https://localhost:8080/"
        },
        "id": "unpGBlYVP5SG",
        "outputId": "e367635b-46ae-4f58-fc4d-c1c235143763"
      },
      "execution_count": 11,
      "outputs": [
        {
          "output_type": "stream",
          "name": "stdout",
          "text": [
            "1\n"
          ]
        }
      ]
    },
    {
      "cell_type": "code",
      "source": [
        "counter = 0 # initalize the var\n",
        "\n",
        "while True:\n",
        "  counter = counter + 1\n",
        "  print(counter)\n",
        "  if counter < 3:\n",
        "    continue # goes up to the loop\n",
        "  else:\n",
        "    break # we stop the loop"
      ],
      "metadata": {
        "colab": {
          "base_uri": "https://localhost:8080/"
        },
        "id": "bkfLgNyNP9ID",
        "outputId": "85d0c45a-2023-4478-d89b-84c515584bd8"
      },
      "execution_count": 12,
      "outputs": [
        {
          "output_type": "stream",
          "name": "stdout",
          "text": [
            "1\n",
            "2\n",
            "3\n"
          ]
        }
      ]
    },
    {
      "cell_type": "markdown",
      "source": [
        "### While loop exercise"
      ],
      "metadata": {
        "id": "Xju2F4XtQCpX"
      }
    },
    {
      "cell_type": "code",
      "source": [
        "city = input(\"What cities have you been to in LV or EE? To stop write 'stop'.\")\n",
        "\n",
        "if city == \"stop\":\n",
        "  print(\"You have written 'stop'.\") # run until user writes \"stop\"\n",
        "else:\n",
        "  print(f\"I see you have been to {city}.\")\n",
        "\n",
        "while True:\n",
        "  city = input(\"What cities have you been to in LV or EE? To stop write 'stop'.\")\n",
        "\n",
        "  if city == \"stop\":\n",
        "    print(\"You have written 'stop'.\") # run until user writes \"stop\"\n",
        "    break\n",
        "  else:\n",
        "    print(f\"I see you have been to {city}.\")"
      ],
      "metadata": {
        "colab": {
          "base_uri": "https://localhost:8080/"
        },
        "id": "Fh7u-R8lQEls",
        "outputId": "101b287e-ed84-453d-d513-44aabf792da8"
      },
      "execution_count": 13,
      "outputs": [
        {
          "output_type": "stream",
          "name": "stdout",
          "text": [
            "What cities have you been to in LV or EE? To stop write 'stop'.EE\n",
            "I see you have been to EE.\n",
            "What cities have you been to in LV or EE? To stop write 'stop'.LV\n",
            "I see you have been to LV.\n",
            "What cities have you been to in LV or EE? To stop write 'stop'.stop\n",
            "You have written 'stop'.\n"
          ]
        }
      ]
    },
    {
      "cell_type": "markdown",
      "source": [
        "Initiate a list, append each city to the list, print how many cities user has been to."
      ],
      "metadata": {
        "id": "H9jb-Qu-QNfF"
      }
    },
    {
      "cell_type": "code",
      "source": [
        "#Initiate list\n",
        "cities = []\n",
        "\n",
        "while True: #city != \"stop\"\n",
        "  city = input(\"What cities have you been to in LV or EE? To stop write 'stop'.\")\n",
        "\n",
        "  if city == \"stop\":\n",
        "    print(\"You have written 'stop'.\") # run until user writes \"stop\"\n",
        "    break\n",
        "  else:\n",
        "    print(f\"I see you have been to {city}.\")\n",
        "    cities.append(city)\n",
        "\n",
        "print(f\"You have been to {len(cities)} cities.\")"
      ],
      "metadata": {
        "colab": {
          "base_uri": "https://localhost:8080/"
        },
        "id": "b2V2jPW9QLVf",
        "outputId": "45a55cf4-9c7e-476c-db5e-9a323a15c870"
      },
      "execution_count": 14,
      "outputs": [
        {
          "output_type": "stream",
          "name": "stdout",
          "text": [
            "What cities have you been to in LV or EE? To stop write 'stop'.LV\n",
            "I see you have been to LV.\n",
            "What cities have you been to in LV or EE? To stop write 'stop'.EE\n",
            "I see you have been to EE.\n",
            "What cities have you been to in LV or EE? To stop write 'stop'.stop\n",
            "You have written 'stop'.\n",
            "You have been to 2 cities.\n"
          ]
        }
      ]
    },
    {
      "cell_type": "markdown",
      "source": [
        "Initiate a counter variable, increment it with each city, add counter in print statement."
      ],
      "metadata": {
        "id": "GAsDAAOHQXw2"
      }
    },
    {
      "cell_type": "code",
      "source": [
        "cities = []\n",
        "\n",
        "counter = 0 #we could use len(cities) so we don't need to use counter at all\n",
        "\n",
        "while True: #city != \"stop\"\n",
        "  city = input(\"What cities have you been to in LV or EE? To stop write 'stop'.\")\n",
        "\n",
        "  if city == \"stop\":\n",
        "    print(\"You have written 'stop'.\") # run until user writes \"stop\"\n",
        "    break\n",
        "  else:\n",
        "    counter = counter + 1\n",
        "    print(f\"{counter}. I see you have been to {city}.\") # counter can be replaced with {len(cities)} and then append must be before print\n",
        "    cities.append(city)\n",
        "\n",
        "print(f\"You have been to {len(cities)} cities.\")"
      ],
      "metadata": {
        "colab": {
          "base_uri": "https://localhost:8080/"
        },
        "id": "WCl0Ba_DQZnR",
        "outputId": "ba0ea26e-13be-4a8b-a538-1fceb1f1eaee"
      },
      "execution_count": 15,
      "outputs": [
        {
          "output_type": "stream",
          "name": "stdout",
          "text": [
            "What cities have you been to in LV or EE? To stop write 'stop'.EE\n",
            "1. I see you have been to EE.\n",
            "What cities have you been to in LV or EE? To stop write 'stop'.LV\n",
            "2. I see you have been to LV.\n",
            "What cities have you been to in LV or EE? To stop write 'stop'.stop\n",
            "You have written 'stop'.\n",
            "You have been to 2 cities.\n"
          ]
        }
      ]
    },
    {
      "cell_type": "markdown",
      "source": [
        "### IMPORTING LIBRARY"
      ],
      "metadata": {
        "id": "YMLt-JAzQfN1"
      }
    },
    {
      "cell_type": "code",
      "source": [
        "import random\n",
        "\n",
        "random_number = random.randint(1, 101)\n",
        "print(random_number)"
      ],
      "metadata": {
        "id": "wKbCuAv1Qdsw"
      },
      "execution_count": null,
      "outputs": []
    },
    {
      "cell_type": "code",
      "source": [
        "import random\n",
        "\n",
        "random_number = random.randint(1, 100)\n",
        "\n",
        "while True:\n",
        "  guess = input(\"Guess the number between 1 and 100, to quite write 'stop'.\")\n",
        "\n",
        "  if guess == \"stop\":\n",
        "    print(\"The game has been stopped.\")\n",
        "    break\n",
        "\n",
        "  guess = int(guess)\n",
        "  if guess == random_number:\n",
        "    print(\"You have guessed the correct number.\")\n",
        "    break\n",
        "  else:\n",
        "    # WE ARE MAKING THE GAME EASIER\n",
        "    if guess > random_number:\n",
        "      print(\"Try lower!\")\n",
        "    else:\n",
        "      print(\"Try higher!\")"
      ],
      "metadata": {
        "colab": {
          "base_uri": "https://localhost:8080/"
        },
        "id": "g373GCc4QibJ",
        "outputId": "4132358d-9262-4ef5-dc94-4a291007c776"
      },
      "execution_count": 16,
      "outputs": [
        {
          "output_type": "stream",
          "name": "stdout",
          "text": [
            "Guess the number between 1 and 100, to quite write 'stop'.45\n",
            "Try higher!\n",
            "Guess the number between 1 and 100, to quite write 'stop'.55\n",
            "Try higher!\n",
            "Guess the number between 1 and 100, to quite write 'stop'.66\n",
            "Try higher!\n",
            "Guess the number between 1 and 100, to quite write 'stop'.88\n",
            "Try higher!\n",
            "Guess the number between 1 and 100, to quite write 'stop'.99\n",
            "Try lower!\n",
            "Guess the number between 1 and 100, to quite write 'stop'.98\n",
            "Try lower!\n",
            "Guess the number between 1 and 100, to quite write 'stop'.97\n",
            "You have guessed the correct number.\n"
          ]
        }
      ]
    },
    {
      "cell_type": "markdown",
      "source": [
        "### Add list where all the guesses will be saved and in the end ot loop print how many guesses were there.\"\"\"\n"
      ],
      "metadata": {
        "id": "p2E1hIP2Qod4"
      }
    },
    {
      "cell_type": "code",
      "source": [
        "import random\n",
        "\n",
        "guesses = []\n",
        "\n",
        "random_number = random.randint(1, 100)"
      ],
      "metadata": {
        "id": "53Jn8i7OQqgu"
      },
      "execution_count": 17,
      "outputs": []
    },
    {
      "cell_type": "code",
      "source": [
        "while True:\n",
        "\n",
        "  guess = input(\"Guess the number between 1 and 100, to quite write 'stop'.\")\n",
        "\n",
        "  if guess == \"stop\":\n",
        "    print(\"The game has been stopped.\")\n",
        "    break\n",
        "\n",
        "  guess = int(guess)\n",
        "  guesses.append(guess)\n",
        "  if guess == random_number:\n",
        "    print(\"You have guessed the correct number.\")\n",
        "    break\n",
        "\n",
        "  else:\n",
        "    # WE ARE MAKING THE GAME EASIER\n",
        "    if guess > random_number:\n",
        "      print(\"Try lower!\")\n",
        "    else:\n",
        "      print(\"Try higher!\")\n",
        "\n",
        "\n",
        "print(f\"You have made {len(guesses)} tries.\")"
      ],
      "metadata": {
        "colab": {
          "base_uri": "https://localhost:8080/"
        },
        "id": "BWtnuRkEQs5E",
        "outputId": "5f5ff75b-c4c0-4174-c19e-c59f7dff0a25"
      },
      "execution_count": 18,
      "outputs": [
        {
          "output_type": "stream",
          "name": "stdout",
          "text": [
            "Guess the number between 1 and 100, to quite write 'stop'.44\n",
            "Try lower!\n",
            "Guess the number between 1 and 100, to quite write 'stop'.55\n",
            "Try lower!\n",
            "Guess the number between 1 and 100, to quite write 'stop'.33\n",
            "Try higher!\n",
            "Guess the number between 1 and 100, to quite write 'stop'.40\n",
            "Try lower!\n",
            "Guess the number between 1 and 100, to quite write 'stop'.39\n",
            "Try lower!\n",
            "Guess the number between 1 and 100, to quite write 'stop'.38\n",
            "Try lower!\n",
            "Guess the number between 1 and 100, to quite write 'stop'.37\n",
            "Try lower!\n",
            "Guess the number between 1 and 100, to quite write 'stop'.35\n",
            "You have guessed the correct number.\n",
            "You have made 8 tries.\n"
          ]
        }
      ]
    },
    {
      "cell_type": "markdown",
      "source": [
        "### same code with try and exept"
      ],
      "metadata": {
        "id": "vha_EVPDQyoz"
      }
    },
    {
      "cell_type": "code",
      "source": [
        "import random\n",
        "\n",
        "guesses = []\n",
        "\n",
        "random_number = random.randint(1, 100)\n",
        "\n",
        "\n",
        "while True:\n",
        "\n",
        "  guess = input(\"Guess the number between 1 and 100, to quite write 'stop'.\")\n",
        "\n",
        "  if guess == \"stop\":\n",
        "    print(\"The game has been stopped.\")\n",
        "    break\n",
        "\n",
        "  try:\n",
        "    guess = int(guess)\n",
        "\n",
        "  except:\n",
        "    print(\"You need to input an integer!\")\n",
        "    continue\n",
        "\n",
        "  guess = int(guess)\n",
        "  guesses.append(guess)\n",
        "  if guess == random_number:\n",
        "    print(\"You have guessed the correct number.\")\n",
        "    break\n",
        "\n",
        "  else:\n",
        "    # WE ARE MAKING THE GAME EASIER\n",
        "    if guess > random_number:\n",
        "      print(\"Try lower!\")\n",
        "    else:\n",
        "      print(\"Try higher!\")\n",
        "\n",
        "\n",
        "print(f\"You have made {len(guesses)} tries.\")"
      ],
      "metadata": {
        "colab": {
          "base_uri": "https://localhost:8080/"
        },
        "id": "9tCWDZZbQ0zh",
        "outputId": "99559e92-1988-40c6-82c7-41a1acd151fa"
      },
      "execution_count": 19,
      "outputs": [
        {
          "output_type": "stream",
          "name": "stdout",
          "text": [
            "Guess the number between 1 and 100, to quite write 'stop'.44\n",
            "Try higher!\n",
            "Guess the number between 1 and 100, to quite write 'stop'.77\n",
            "Try lower!\n",
            "Guess the number between 1 and 100, to quite write 'stop'.66\n",
            "Try lower!\n",
            "Guess the number between 1 and 100, to quite write 'stop'.55\n",
            "Try higher!\n",
            "Guess the number between 1 and 100, to quite write 'stop'.56\n",
            "Try higher!\n",
            "Guess the number between 1 and 100, to quite write 'stop'.57\n",
            "Try higher!\n",
            "Guess the number between 1 and 100, to quite write 'stop'.58\n",
            "You have guessed the correct number.\n",
            "You have made 7 tries.\n"
          ]
        }
      ]
    },
    {
      "cell_type": "markdown",
      "source": [
        "### Steps (for simplifying the code logic):\n",
        "\n",
        "Step 1: Print a welcoming message to the player.\n",
        "\n",
        "Step 2: Initialize variables to keep track of the number of correct guesses and the total number of guesses.\n",
        "\n",
        "Step 3: Use a while loop to keep the game running until the player decides to quit.\n",
        "\n",
        "Step 4: If the player enters 'quit', exit the game loop.\n",
        "\n",
        "Step 5: Ask the player to guess the outcome of the coin toss (heads or tails).\n",
        "\n",
        "Step 6: Generate a random number (0 or 1) to represent the outcome of the coin toss. (If the number is 0, the outcome is heads. If it's 1, the outcome is tails.)\n",
        "\n",
        "Step 7: Compare the player's guess with the generated outcome.\n",
        "\n",
        "Step 8: Increment the correct and total number of guesses"
      ],
      "metadata": {
        "id": "YLZqdlGnQ5mB"
      }
    },
    {
      "cell_type": "code",
      "source": [
        "import random\n",
        "\n",
        "print(\"Lets's play coin toss game!\")\n",
        "\n",
        "correct_guesses = 0\n",
        "total_guesses = 0\n",
        "random_number= random.randint(0,1)\n",
        "\n",
        "\n",
        "while True:\n",
        "  guess = input(\"Guess the outcome of the coin toss, write '0' for 'heads' and '1' for 'tails'. For guiting the game, write 'guit'.\")\n",
        "\n",
        "  if guess == \"guit\":\n",
        "    print(\"You have guit the game.\")\n",
        "    break\n",
        "\n",
        "  try:\n",
        "    guess = int(guess)\n",
        "\n",
        "  except:\n",
        "    print(\"Wrong input.\")\n",
        "\n",
        "  else:\n",
        "    if guess == random_number:\n",
        "      correct_guesses =  correct_guesses + 1\n",
        "      print(\"You guessed it!\")\n",
        "    else:\n",
        "      print(\"Wrong guess, try again!\")\n",
        "  total_guesses = total_guesses + 1\n",
        "\n",
        "print(f\"Correct guesses: {correct_guesses}\")\n",
        "print(f\"Total guesses: {total_guesses}\")"
      ],
      "metadata": {
        "colab": {
          "base_uri": "https://localhost:8080/",
          "height": 401
        },
        "id": "6Dgh1nkCQ-J9",
        "outputId": "25f82abe-7937-47b7-a080-60425c25f58d"
      },
      "execution_count": 20,
      "outputs": [
        {
          "output_type": "stream",
          "name": "stdout",
          "text": [
            "Lets's play coin toss game!\n",
            "Guess the outcome of the coin toss, write '0' for 'heads' and '1' for 'tails'. For guiting the game, write 'guit'.0\n",
            "You guessed it!\n"
          ]
        },
        {
          "output_type": "error",
          "ename": "KeyboardInterrupt",
          "evalue": "Interrupted by user",
          "traceback": [
            "\u001b[0;31m---------------------------------------------------------------------------\u001b[0m",
            "\u001b[0;31mKeyboardInterrupt\u001b[0m                         Traceback (most recent call last)",
            "\u001b[0;32m<ipython-input-20-44834ec01ed9>\u001b[0m in \u001b[0;36m<cell line: 10>\u001b[0;34m()\u001b[0m\n\u001b[1;32m      9\u001b[0m \u001b[0;34m\u001b[0m\u001b[0m\n\u001b[1;32m     10\u001b[0m \u001b[0;32mwhile\u001b[0m \u001b[0;32mTrue\u001b[0m\u001b[0;34m:\u001b[0m\u001b[0;34m\u001b[0m\u001b[0;34m\u001b[0m\u001b[0m\n\u001b[0;32m---> 11\u001b[0;31m   \u001b[0mguess\u001b[0m \u001b[0;34m=\u001b[0m \u001b[0minput\u001b[0m\u001b[0;34m(\u001b[0m\u001b[0;34m\"Guess the outcome of the coin toss, write '0' for 'heads' and '1' for 'tails'. For guiting the game, write 'guit'.\"\u001b[0m\u001b[0;34m)\u001b[0m\u001b[0;34m\u001b[0m\u001b[0;34m\u001b[0m\u001b[0m\n\u001b[0m\u001b[1;32m     12\u001b[0m \u001b[0;34m\u001b[0m\u001b[0m\n\u001b[1;32m     13\u001b[0m   \u001b[0;32mif\u001b[0m \u001b[0mguess\u001b[0m \u001b[0;34m==\u001b[0m \u001b[0;34m\"guit\"\u001b[0m\u001b[0;34m:\u001b[0m\u001b[0;34m\u001b[0m\u001b[0;34m\u001b[0m\u001b[0m\n",
            "\u001b[0;32m/usr/local/lib/python3.10/dist-packages/ipykernel/kernelbase.py\u001b[0m in \u001b[0;36mraw_input\u001b[0;34m(self, prompt)\u001b[0m\n\u001b[1;32m    849\u001b[0m                 \u001b[0;34m\"raw_input was called, but this frontend does not support input requests.\"\u001b[0m\u001b[0;34m\u001b[0m\u001b[0;34m\u001b[0m\u001b[0m\n\u001b[1;32m    850\u001b[0m             )\n\u001b[0;32m--> 851\u001b[0;31m         return self._input_request(str(prompt),\n\u001b[0m\u001b[1;32m    852\u001b[0m             \u001b[0mself\u001b[0m\u001b[0;34m.\u001b[0m\u001b[0m_parent_ident\u001b[0m\u001b[0;34m,\u001b[0m\u001b[0;34m\u001b[0m\u001b[0;34m\u001b[0m\u001b[0m\n\u001b[1;32m    853\u001b[0m             \u001b[0mself\u001b[0m\u001b[0;34m.\u001b[0m\u001b[0m_parent_header\u001b[0m\u001b[0;34m,\u001b[0m\u001b[0;34m\u001b[0m\u001b[0;34m\u001b[0m\u001b[0m\n",
            "\u001b[0;32m/usr/local/lib/python3.10/dist-packages/ipykernel/kernelbase.py\u001b[0m in \u001b[0;36m_input_request\u001b[0;34m(self, prompt, ident, parent, password)\u001b[0m\n\u001b[1;32m    893\u001b[0m             \u001b[0;32mexcept\u001b[0m \u001b[0mKeyboardInterrupt\u001b[0m\u001b[0;34m:\u001b[0m\u001b[0;34m\u001b[0m\u001b[0;34m\u001b[0m\u001b[0m\n\u001b[1;32m    894\u001b[0m                 \u001b[0;31m# re-raise KeyboardInterrupt, to truncate traceback\u001b[0m\u001b[0;34m\u001b[0m\u001b[0;34m\u001b[0m\u001b[0m\n\u001b[0;32m--> 895\u001b[0;31m                 \u001b[0;32mraise\u001b[0m \u001b[0mKeyboardInterrupt\u001b[0m\u001b[0;34m(\u001b[0m\u001b[0;34m\"Interrupted by user\"\u001b[0m\u001b[0;34m)\u001b[0m \u001b[0;32mfrom\u001b[0m \u001b[0;32mNone\u001b[0m\u001b[0;34m\u001b[0m\u001b[0;34m\u001b[0m\u001b[0m\n\u001b[0m\u001b[1;32m    896\u001b[0m             \u001b[0;32mexcept\u001b[0m \u001b[0mException\u001b[0m \u001b[0;32mas\u001b[0m \u001b[0me\u001b[0m\u001b[0;34m:\u001b[0m\u001b[0;34m\u001b[0m\u001b[0;34m\u001b[0m\u001b[0m\n\u001b[1;32m    897\u001b[0m                 \u001b[0mself\u001b[0m\u001b[0;34m.\u001b[0m\u001b[0mlog\u001b[0m\u001b[0;34m.\u001b[0m\u001b[0mwarning\u001b[0m\u001b[0;34m(\u001b[0m\u001b[0;34m\"Invalid Message:\"\u001b[0m\u001b[0;34m,\u001b[0m \u001b[0mexc_info\u001b[0m\u001b[0;34m=\u001b[0m\u001b[0;32mTrue\u001b[0m\u001b[0;34m)\u001b[0m\u001b[0;34m\u001b[0m\u001b[0;34m\u001b[0m\u001b[0m\n",
            "\u001b[0;31mKeyboardInterrupt\u001b[0m: Interrupted by user"
          ]
        }
      ]
    },
    {
      "cell_type": "code",
      "source": [
        "import random\n",
        "\n",
        "print('Welcome to the coin toss game. Good luck!')\n",
        "\n",
        "total_guesses = []\n",
        "correct_guesses = []\n",
        "\n",
        "\n",
        "while True:\n",
        "\n",
        "  random_number = random.randint(0, 1)\n",
        "\n",
        "  guess = input('Heads = 1 or tails = 0? If you want to stop the game print \"exit\".')\n",
        "\n",
        "\n",
        "  if guess == 'exit':\n",
        "    print('The game has been stopped')\n",
        "    break\n",
        "\n",
        "  else:\n",
        "    guess = int(guess)\n",
        "    total_guesses.append(guess)\n",
        "    if guess == random_number:\n",
        "      print('Correct!')\n",
        "      correct_guesses.append(guess)\n",
        "    else:\n",
        "      print('Wrong!')\n",
        "\n",
        "print(f'You have guessed {len(total_guesses)} times.')\n",
        "print(f'You have guessed correctly {len(correct_guesses)} times.')"
      ],
      "metadata": {
        "colab": {
          "base_uri": "https://localhost:8080/"
        },
        "id": "Gf_zhaspRCgG",
        "outputId": "216c2c19-62df-448a-8788-fb7f4427b739"
      },
      "execution_count": null,
      "outputs": [
        {
          "output_type": "stream",
          "name": "stdout",
          "text": [
            "Welcome to the coin toss game. Good luck!\n",
            "Heads = 1 or tails = 0? If you want to stop the game print \"exit\".1\n",
            "Correct!\n",
            "Heads = 1 or tails = 0? If you want to stop the game print \"exit\".1\n",
            "Wrong!\n"
          ]
        }
      ]
    }
  ]
}
