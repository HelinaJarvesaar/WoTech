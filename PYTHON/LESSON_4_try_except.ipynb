{
  "nbformat": 4,
  "nbformat_minor": 0,
  "metadata": {
    "colab": {
      "provenance": []
    },
    "kernelspec": {
      "name": "python3",
      "display_name": "Python 3"
    },
    "language_info": {
      "name": "python"
    }
  },
  "cells": [
    {
      "cell_type": "code",
      "execution_count": 22,
      "metadata": {
        "colab": {
          "base_uri": "https://localhost:8080/"
        },
        "id": "mTthsOM2H7jx",
        "outputId": "4a3e5d19-f8e9-4deb-b671-1d7364cb5d79"
      },
      "outputs": [
        {
          "output_type": "stream",
          "name": "stdout",
          "text": [
            "Write number 1: 3\n",
            "Write number 2: 4\n",
            "3 is smaller than 4\n"
          ]
        }
      ],
      "source": [
        "# compere two numbers\n",
        "# nested if\n",
        "\n",
        "num1 = int(input(\"Write number 1: \"))\n",
        "num2 = int(input(\"Write number 2: \"))\n",
        "\n",
        "if num1 >= num2:\n",
        "  if num1 == num2:\n",
        "    print(f\"{num1} is equal to {num2}\")\n",
        "  else:\n",
        "    print(f\"{num1} is greater than {num2}\")\n",
        "else:\n",
        "  print(f\"{num1} is smaller than {num2}\")"
      ]
    },
    {
      "cell_type": "code",
      "source": [
        "# try....except...else\n",
        "\n",
        "\n",
        "stock = input(\"Stock: \")\n",
        "\n",
        "try:\n",
        "  production_stock = int(stock)\n",
        "\n",
        "except:\n",
        "  print(\"Wrong input!\")\n",
        "\n",
        "else:\n",
        "  if production_stock > 10:\n",
        "    print(\"Stock level sufficient\")\n",
        "  else:\n",
        "   print(\"Low stock\")"
      ],
      "metadata": {
        "colab": {
          "base_uri": "https://localhost:8080/"
        },
        "id": "Erv-FvZrIEN-",
        "outputId": "21fed71e-1733-42b6-c34d-ff8fb012c3db"
      },
      "execution_count": 23,
      "outputs": [
        {
          "output_type": "stream",
          "name": "stdout",
          "text": [
            "Stock: 6\n",
            "Low stock\n"
          ]
        }
      ]
    },
    {
      "cell_type": "code",
      "source": [
        "name = input('Enter your name: ')\n",
        "speed_limit = float(input('Enter the speed limit (km/h): '))\n",
        "actual_speed = float(input('Enter your actual speed (km/h): '))\n",
        "\n",
        "try:\n",
        "  speed_limit = int(speed_limit)\n",
        "  actual_speed = int(actual_speed)\n",
        "\n",
        "except:\n",
        "  print(\"Wrong input\")\n",
        "\n",
        "else:\n",
        "  difference = actual_speed - speed_limit\n",
        "  fine = difference * 3\n",
        "  if speed_limit < 0 or actual_speed < 0:\n",
        "    print(\"Speed limit MUST be positive.\")\n",
        "  elif difference < 0: # actual_speed - speed_limit\n",
        "    print(\"Speed limit is not exceede. No fine applied.\")\n",
        "  else:\n",
        "    if fine > 190:\n",
        "      print(f\"{name}, your fine is 190 euros.\")\n",
        "    else:\n",
        "      print(f\"{name}, your fine is {fine} euros.\")"
      ],
      "metadata": {
        "colab": {
          "base_uri": "https://localhost:8080/"
        },
        "id": "zSvZwiRmIMQF",
        "outputId": "48fab38d-d849-46b5-e516-d8e7272f86a0"
      },
      "execution_count": 24,
      "outputs": [
        {
          "output_type": "stream",
          "name": "stdout",
          "text": [
            "Enter your name: Helina\n",
            "Enter the speed limit (km/h): 34\n",
            "Enter your actual speed (km/h): 65\n",
            "Helina, your fine is 93 euros.\n"
          ]
        }
      ]
    },
    {
      "cell_type": "markdown",
      "source": [
        "# LISTS"
      ],
      "metadata": {
        "id": "fA_urwxYIgKV"
      }
    },
    {
      "cell_type": "code",
      "source": [
        "flowers = \"pink primrose,hard-leaved pocket orchid,canterbury bells,sweet pea,english marigold,tiger lily,moon orchid,bird of paradise,monkshood,globe thistle\"\n",
        "print(type(flowers))\n",
        "\n",
        "flowers = [\"pink primrose\",\"hard-leaved pocket orchid\",\"canterbury bells\",\"sweet pea\",\"english marigold\",\"tiger lily\",\"moon orchid\",\"bird of paradise\",\"monkshood\",\"globe thistle\"]\n",
        "print(type(flowers))"
      ],
      "metadata": {
        "colab": {
          "base_uri": "https://localhost:8080/"
        },
        "id": "6rrJdzX7IhCK",
        "outputId": "f36b7c2b-c2a1-44df-fae9-b200a856272d"
      },
      "execution_count": 25,
      "outputs": [
        {
          "output_type": "stream",
          "name": "stdout",
          "text": [
            "<class 'str'>\n",
            "<class 'list'>\n"
          ]
        }
      ]
    },
    {
      "cell_type": "code",
      "source": [
        "# how many items in the list?\n",
        "\n",
        "print(len(flowers))"
      ],
      "metadata": {
        "colab": {
          "base_uri": "https://localhost:8080/"
        },
        "id": "15y_iraxIl3f",
        "outputId": "cd98c103-bc7d-412b-f806-8317b291062d"
      },
      "execution_count": 26,
      "outputs": [
        {
          "output_type": "stream",
          "name": "stdout",
          "text": [
            "10\n"
          ]
        }
      ]
    },
    {
      "cell_type": "code",
      "source": [
        "flowers = [\"pink primrose\",\"hard-leaved pocket orchid\",\"canterbury bells\",\"sweet pea\",\"english marigold\",\"tiger lily\",\"moon orchid\",\"bird of paradise\",\"monkshood\",\"globe thistle\"]\n",
        "\n",
        "print(\"first entry: \", flowers[0])\n",
        "print(flowers[1])\n",
        "print(\"last entry: \", flowers[9])"
      ],
      "metadata": {
        "colab": {
          "base_uri": "https://localhost:8080/"
        },
        "id": "Hdax07PiIrtM",
        "outputId": "cad4bad5-1d6d-43d5-bbdc-1182f9d5e9d8"
      },
      "execution_count": 27,
      "outputs": [
        {
          "output_type": "stream",
          "name": "stdout",
          "text": [
            "first entry:  pink primrose\n",
            "hard-leaved pocket orchid\n",
            "last entry:  globe thistle\n"
          ]
        }
      ]
    },
    {
      "cell_type": "code",
      "source": [
        "flowers = [\"pink primrose\",\"hard-leaved pocket orchid\",\"canterbury bells\",\"sweet pea\",\"english marigold\",\"tiger lily\",\"moon orchid\",\"bird of paradise\",\"monkshood\",\"globe thistle\"]\n",
        "\n",
        "print(flowers[1:5]) # 4 items\n",
        "print(flowers[:5]) # first 5"
      ],
      "metadata": {
        "colab": {
          "base_uri": "https://localhost:8080/"
        },
        "id": "zcb00W6eIv2_",
        "outputId": "1001eabc-4b1b-480d-8e0f-52a179e05ef1"
      },
      "execution_count": 28,
      "outputs": [
        {
          "output_type": "stream",
          "name": "stdout",
          "text": [
            "['hard-leaved pocket orchid', 'canterbury bells', 'sweet pea', 'english marigold']\n",
            "['pink primrose', 'hard-leaved pocket orchid', 'canterbury bells', 'sweet pea', 'english marigold']\n"
          ]
        }
      ]
    },
    {
      "cell_type": "code",
      "source": [
        "flowers = [\"pink primrose\",\"hard-leaved pocket orchid\",\"canterbury bells\",\"sweet pea\",\"english marigold\",\"tiger lily\",\"moon orchid\",\"bird of paradise\",\"monkshood\",\"globe thistle\"]\n",
        "\n",
        "print(\"Every other item:\",flowers[::2]) # every second item"
      ],
      "metadata": {
        "colab": {
          "base_uri": "https://localhost:8080/"
        },
        "id": "wGTxjOkZIvrL",
        "outputId": "b0556f57-205e-472e-8ec9-9f00d6889182"
      },
      "execution_count": 29,
      "outputs": [
        {
          "output_type": "stream",
          "name": "stdout",
          "text": [
            "Every other item: ['pink primrose', 'canterbury bells', 'english marigold', 'moon orchid', 'monkshood']\n"
          ]
        }
      ]
    },
    {
      "cell_type": "code",
      "source": [
        "flowers = [\"pink primrose\",\"hard-leaved pocket orchid\",\"canterbury bells\",\"sweet pea\",\"english marigold\",\"tiger lily\",\"moon orchid\",\"bird of paradise\",\"monkshood\",\"globe thistle\"]\n",
        "\n",
        "for item in flowers[::2]:\n",
        "  print(item)\n",
        "\n",
        "my_list = [\"one\", \"two\", \"three\", 4,5]\n",
        "\n",
        "print(my_list)\n",
        "print(my_list[1])\n",
        "print(my_list[-2])\n",
        "print(my_list[3])"
      ],
      "metadata": {
        "colab": {
          "base_uri": "https://localhost:8080/"
        },
        "id": "AUVJsI1jIzbF",
        "outputId": "8f4830cc-5004-4ddf-d843-d49cce23eac1"
      },
      "execution_count": 30,
      "outputs": [
        {
          "output_type": "stream",
          "name": "stdout",
          "text": [
            "pink primrose\n",
            "canterbury bells\n",
            "english marigold\n",
            "moon orchid\n",
            "monkshood\n",
            "['one', 'two', 'three', 4, 5]\n",
            "two\n",
            "4\n",
            "4\n"
          ]
        }
      ]
    },
    {
      "cell_type": "code",
      "source": [
        "# adding new item to the list\n",
        "\n",
        "my_list = my_list + [\"new item\"]\n",
        "my_list"
      ],
      "metadata": {
        "colab": {
          "base_uri": "https://localhost:8080/"
        },
        "id": "oh2hguhwI2G5",
        "outputId": "3747c409-b5f7-4c64-acd7-b14c7a9e7a9c"
      },
      "execution_count": 31,
      "outputs": [
        {
          "output_type": "execute_result",
          "data": {
            "text/plain": [
              "['one', 'two', 'three', 4, 5, 'new item']"
            ]
          },
          "metadata": {},
          "execution_count": 31
        }
      ]
    },
    {
      "cell_type": "code",
      "source": [
        "my_list[1] = 2\n",
        "my_list"
      ],
      "metadata": {
        "colab": {
          "base_uri": "https://localhost:8080/"
        },
        "id": "O6q9Q1KvI7yT",
        "outputId": "1f8441a2-bc5d-44ec-8ed3-4bb3fbaf56ca"
      },
      "execution_count": 32,
      "outputs": [
        {
          "output_type": "execute_result",
          "data": {
            "text/plain": [
              "['one', 2, 'three', 4, 5, 'new item']"
            ]
          },
          "metadata": {},
          "execution_count": 32
        }
      ]
    },
    {
      "cell_type": "code",
      "source": [
        "my_list.append(\"append me\")\n",
        "my_list"
      ],
      "metadata": {
        "colab": {
          "base_uri": "https://localhost:8080/"
        },
        "id": "QrZTrdAzJDp5",
        "outputId": "f7ea879d-2185-4a13-cde2-bc989a0978f9"
      },
      "execution_count": 33,
      "outputs": [
        {
          "output_type": "execute_result",
          "data": {
            "text/plain": [
              "['one', 2, 'three', 4, 5, 'new item', 'append me']"
            ]
          },
          "metadata": {},
          "execution_count": 33
        }
      ]
    },
    {
      "cell_type": "code",
      "source": [
        "# remove an item from list\n",
        "\n",
        "my_list.pop(3)\n",
        "my_list"
      ],
      "metadata": {
        "colab": {
          "base_uri": "https://localhost:8080/"
        },
        "id": "6-Q1YklaJFeo",
        "outputId": "0574e008-c149-47af-97a1-ff3670b18621"
      },
      "execution_count": 34,
      "outputs": [
        {
          "output_type": "execute_result",
          "data": {
            "text/plain": [
              "['one', 2, 'three', 5, 'new item', 'append me']"
            ]
          },
          "metadata": {},
          "execution_count": 34
        }
      ]
    },
    {
      "cell_type": "markdown",
      "source": [
        "# HOMEWORK\n",
        "\n",
        "1.Define a list of numbers [10, 20, 30, 40, 50].\n",
        "\n",
        "2.Print the length of the list.\n",
        "\n",
        "3.Print the first element of the list.\n",
        "\n",
        "4.Print the last element of the list.\n",
        "\n",
        "5.Append a new number (e.g., 60) to the list.\n",
        "\n",
        "6.Print the updated list.\n",
        "\n",
        "7.Remove the second element from the list.\n",
        "\n",
        "8.Print the list after removal.\n",
        "\n",
        "9.Check if a specific number (e.g., 30) exists in the list and print the result.\n"
      ],
      "metadata": {
        "id": "4BYGyyQNJUgM"
      }
    },
    {
      "cell_type": "code",
      "source": [
        "list_of_numbers = [\"10\",\"20\", \"30\", \"40\", \"50\"]\n",
        "\n",
        "print(\"List of numbers: \" , list_of_numbers) #1\n",
        "print(\"Length of list: \", len(list_of_numbers)) #2\n",
        "print(\"First element: \", list_of_numbers[0]) #3\n",
        "print(\"Last element: \", list_of_numbers[-1]) #4\n",
        "\n",
        "list_of_numbers.append(\"60\") #5\n",
        "print(\"New updated list: \", list_of_numbers)#6\n",
        "\n",
        "list_of_numbers.pop(1) #7\n",
        "print(\"List after removal: \", list_of_numbers)#8\n",
        "\n",
        "number = \"70\"\n",
        "if item in list_of_numbers[:]:\n",
        "    print(f\"Yes, there is {number} in the list.\")\n",
        "else:\n",
        "   print(f\"No, there isn't {number} in the list.\")\n",
        "\n",
        "number_list = [10, 20, 30, 40, 50] #1\n",
        "\n",
        "print(\"Lenght of the list: \", len(number_list)) #2\n",
        "print(\"First number of the list: \", number_list[0]) #3\n",
        "print(\"Last number of the list: \", number_list[-1]) #4\n",
        "\n",
        "number_list.append(60) #5\n",
        "print(number_list) #6\n",
        "\n",
        "number_list.remove(number_list[1]) #7\n",
        "print(number_list) #8\n",
        "\n",
        "number = 60\n",
        "if number_list.count(number) > 0: #9\n",
        "    print(f\"{number} is in the list\")\n",
        "else:\n",
        "    print(f\"{number} is not in the list\")"
      ],
      "metadata": {
        "colab": {
          "base_uri": "https://localhost:8080/"
        },
        "id": "h4Am2KfcJSxx",
        "outputId": "5e65ad94-9a8e-420a-e0fb-7336312c9a0a"
      },
      "execution_count": 35,
      "outputs": [
        {
          "output_type": "stream",
          "name": "stdout",
          "text": [
            "List of numbers:  ['10', '20', '30', '40', '50']\n",
            "Length of list:  5\n",
            "First element:  10\n",
            "Last element:  50\n",
            "New updated list:  ['10', '20', '30', '40', '50', '60']\n",
            "List after removal:  ['10', '30', '40', '50', '60']\n",
            "No, there isn't 70 in the list.\n",
            "Lenght of the list:  5\n",
            "First number of the list:  10\n",
            "Last number of the list:  50\n",
            "[10, 20, 30, 40, 50, 60]\n",
            "[10, 30, 40, 50, 60]\n",
            "60 is in the list\n"
          ]
        }
      ]
    }
  ]
}