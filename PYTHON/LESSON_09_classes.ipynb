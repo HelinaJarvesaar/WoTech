{
  "nbformat": 4,
  "nbformat_minor": 0,
  "metadata": {
    "colab": {
      "provenance": []
    },
    "kernelspec": {
      "name": "python3",
      "display_name": "Python 3"
    },
    "language_info": {
      "name": "python"
    }
  },
  "cells": [
    {
      "cell_type": "markdown",
      "source": [
        "## FUNCTIONS"
      ],
      "metadata": {
        "id": "NX6LcW-xYv6y"
      }
    },
    {
      "cell_type": "code",
      "execution_count": 9,
      "metadata": {
        "colab": {
          "base_uri": "https://localhost:8080/"
        },
        "id": "rOzAiMCqYrIy",
        "outputId": "55456ae5-1e96-401a-f600-fc2c2bd4384d"
      },
      "outputs": [
        {
          "output_type": "stream",
          "name": "stdout",
          "text": [
            "I have cleaned the item\n"
          ]
        }
      ],
      "source": [
        "# function  (parameter)\n",
        "\n",
        "def cleaner1 ():\n",
        "  print(\"I have cleaned the item\") # do not return any value, just does a job!\n",
        "\n",
        "cleaner1()"
      ]
    },
    {
      "cell_type": "code",
      "source": [
        "def cleaner2 (item):\n",
        "  print(f\"I have cleaned the {item}.\")\n",
        "\n",
        "cleaner2(\"smartphone\") # \"smartfone\" is an argument provided as parameter of a function"
      ],
      "metadata": {
        "colab": {
          "base_uri": "https://localhost:8080/"
        },
        "id": "uaS59RyeY4E4",
        "outputId": "f283a7fe-0af7-42af-c08d-56563f66dea3"
      },
      "execution_count": 10,
      "outputs": [
        {
          "output_type": "stream",
          "name": "stdout",
          "text": [
            "I have cleaned the smartphone.\n"
          ]
        }
      ]
    },
    {
      "cell_type": "code",
      "source": [
        "def cleaner3 (item, fluid, times):\n",
        "  print(f\"I have cleaned the {item} with {fluid} {times} times.\")\n",
        "\n",
        "cleaner3(\"smartphone\", \"water\", 3)\n",
        "cleaner3(\"smartphone\", \"ethanol\", \"5\")\n",
        "cleaner3(\"smartphone\", \"methanol\", \"six\")"
      ],
      "metadata": {
        "colab": {
          "base_uri": "https://localhost:8080/"
        },
        "id": "AdhUg_41Y4sc",
        "outputId": "6def3d68-6e7b-42bf-d594-2f6008e3a3b4"
      },
      "execution_count": 11,
      "outputs": [
        {
          "output_type": "stream",
          "name": "stdout",
          "text": [
            "I have cleaned the smartphone with water 3 times.\n",
            "I have cleaned the smartphone with ethanol 5 times.\n",
            "I have cleaned the smartphone with methanol six times.\n"
          ]
        }
      ]
    },
    {
      "cell_type": "code",
      "source": [
        "# we can define data types NB! BUT iT IS ONLY INFORMATIVE!! ehhki times:int, siis prindib \"5\" !\n",
        "\n",
        "def cleaner(item: str, fluid: str, times: int):\n",
        "  print(f\"I have cleaned the {item} with {fluid} {times} times.\")\n",
        "\n",
        "cleaner(\"smartphone\", \"water\", 3)\n",
        "cleaner(\"smartphone\", \"ethanol\", \"5\")"
      ],
      "metadata": {
        "colab": {
          "base_uri": "https://localhost:8080/"
        },
        "id": "0iMfAluVY6Xt",
        "outputId": "de2d4b86-aafc-42ca-bc6e-ea6d87b4a512"
      },
      "execution_count": 12,
      "outputs": [
        {
          "output_type": "stream",
          "name": "stdout",
          "text": [
            "I have cleaned the smartphone with water 3 times.\n",
            "I have cleaned the smartphone with ethanol 5 times.\n"
          ]
        }
      ]
    },
    {
      "cell_type": "code",
      "source": [
        "def add_two_numbers (a, b):\n",
        "  return a+b #returns a VALUE! saan tulevikus kastuda nt tehtes!\n",
        "\n",
        "print(50 - add_two_numbers (4, 5))"
      ],
      "metadata": {
        "colab": {
          "base_uri": "https://localhost:8080/"
        },
        "id": "GABjx6oLY9ts",
        "outputId": "d778cb55-5d2c-4c5a-fb59-e6ade93a91a4"
      },
      "execution_count": 13,
      "outputs": [
        {
          "output_type": "stream",
          "name": "stdout",
          "text": [
            "41\n"
          ]
        }
      ]
    },
    {
      "cell_type": "markdown",
      "source": [
        "# CLASSES"
      ],
      "metadata": {
        "id": "EzZIY-TnZAFT"
      }
    },
    {
      "cell_type": "code",
      "source": [
        "# class names are written with uppercase\n",
        "\n",
        "class Cat1:\n",
        "\n",
        "  # initialising class (class is possible to make without __init__, but usually we do __init__)\n",
        "  # this __init__ method runs automatically when an object (instance) of this class is created  (nt imik sünnib ja kohe iseenesest hingab)\n",
        "  # function inside class is called METHOD and this method is also called 'CONSTRUCTOR'\n",
        "\n",
        "  def __init__(self, name, age):   # (self) is REQUIRED parameter in all methods in class and refers to the instance (object)\n",
        "    self.name = name\n",
        "    self.age = age\n",
        "\n",
        "  def voice(self, sound):     # we define our custom method\n",
        "    print(f\"{sound}!\")\n",
        "\n",
        "cat1 = Cat1 (\"Coder\", 3)        # here we create an instance of the class called an object\n",
        "cat2 = Cat1 (\"Minka\", 12)\n",
        "cat3 = Cat1 (\"Miisu\", 5)\n",
        "\n",
        "print(cat3.name)\n",
        "print(cat1.age)\n",
        "print(cat1)         # We can not print cat, it gives us the cat's place in memory\n",
        "\n",
        "cat3.voice(\"Meow\")\n",
        "cat2.voice(\"Purr\")\n",
        "print(cat3.voice(\"Meow\"))"
      ],
      "metadata": {
        "colab": {
          "base_uri": "https://localhost:8080/"
        },
        "id": "RIjuC89mZB-H",
        "outputId": "c9827439-0379-4f5e-f092-ff11bd64a30b"
      },
      "execution_count": 14,
      "outputs": [
        {
          "output_type": "stream",
          "name": "stdout",
          "text": [
            "Miisu\n",
            "3\n",
            "<__main__.Cat1 object at 0x7c9da438cfd0>\n",
            "Meow!\n",
            "Purr!\n",
            "Meow!\n",
            "None\n"
          ]
        }
      ]
    },
    {
      "cell_type": "code",
      "source": [
        "class Cat2:\n",
        "\n",
        "  def __init__(self, name, age):\n",
        "    self.name = name\n",
        "    self.age = age\n",
        "    self.sound = \"Meow\"   # we don't require it to be provided; if I don't write it as a parameter, then it's not required\n",
        "\n",
        "  def voice(self):\n",
        "    print(f\"{self.sound}!\")\n",
        "\n",
        "  def eat (self, food):\n",
        "    print(f\"{self.name} is eating {food}\")\n",
        "\n",
        "  def introduce(self):\n",
        "    print(f\"Hi, my name is {self.name}, I'm {self.age} years old. \")\n",
        "\n",
        "cat1 = Cat2 (\"Coder\", 3)\n",
        "cat2 = Cat2 (\"Minka\", 12)\n",
        "cat3 = Cat2 (\"Miisu\", 5)\n",
        "\n",
        "print(cat3.name)\n",
        "print(cat1.age)"
      ],
      "metadata": {
        "colab": {
          "base_uri": "https://localhost:8080/"
        },
        "id": "l4X_O9NwZN6o",
        "outputId": "2a7f789d-eec5-4462-93ae-55d9b754a5d4"
      },
      "execution_count": 15,
      "outputs": [
        {
          "output_type": "stream",
          "name": "stdout",
          "text": [
            "Miisu\n",
            "3\n"
          ]
        }
      ]
    },
    {
      "cell_type": "code",
      "source": [
        "cat3.voice()\n",
        "cat1.voice()\n",
        "\n",
        "cat1.eat(\"chicken meat\")\n",
        "\n",
        "cat1.introduce()\n",
        "\n",
        "\n",
        "cats = []\n",
        "cats.append(Cat2 (\"Coder\", 3))\n",
        "cats.append(Cat2 (\"Minka\", 12))\n",
        "cats.append(Cat2 (\"Miisu\", 5))\n",
        "\n",
        "for cat in cats:\n",
        "  print(cat.name)"
      ],
      "metadata": {
        "colab": {
          "base_uri": "https://localhost:8080/"
        },
        "id": "2Qz5jJaYZTRt",
        "outputId": "26b5af23-4ea6-42f0-eaa8-a29d86cc9473"
      },
      "execution_count": 16,
      "outputs": [
        {
          "output_type": "stream",
          "name": "stdout",
          "text": [
            "Meow!\n",
            "Meow!\n",
            "Coder is eating chicken meat\n",
            "Hi, my name is Coder, I'm 3 years old. \n",
            "Coder\n",
            "Minka\n",
            "Miisu\n"
          ]
        }
      ]
    },
    {
      "cell_type": "markdown",
      "source": [
        "# TEAMWORK\n",
        "You can create any class (Cat, Dog, Car, Account, Client, etc...)\n",
        "\n",
        "To make a data structure which will hold all instances/objects together\n",
        "\n",
        "Print out object data using loops\n",
        "\n",
        "Use methods of all created objects using loops\n",
        "\n",
        "Allow programmer to override the default sound of a cat\n",
        "\n",
        "Example\n",
        "cats = []\n",
        "\n",
        "cats.append(Cat('Coder', 3))\n",
        "\n",
        "cats.append(Cat('Minka', 12))\n",
        "\n",
        "cats.append(Cat('Miisu', 5))\n",
        "\n",
        "\n",
        "for cat in cats:\n",
        "\n",
        "  print(cat.name)"
      ],
      "metadata": {
        "id": "c8hEyjw8ZZmC"
      }
    },
    {
      "cell_type": "code",
      "source": [
        "# VERSION 1\n",
        "\n",
        "class Car:\n",
        "\n",
        "  all_cars = []\n",
        "\n",
        "  def __init__(self, brand, model, colour):\n",
        "    self.brand = brand\n",
        "    self.model = model\n",
        "    self.colour = colour\n",
        "    Car.all_cars.append(self)\n",
        "\n",
        "  def voice (self, sound):\n",
        "    print(f\"{self.brand} sounds like {sound}\")\n",
        "\n",
        "  def print_all_cars(self):\n",
        "    for index, car in enumerate(Car.all_cars, start=1):\n",
        "      print(f\"{index}. {car.brand} {car.model}\")\n",
        "\n",
        "car1 = Car (\"Bugatti\", \"La Voiture Noire\", \"Jet Black\")\n",
        "car2 = Car (\"Pagani\", \"Zonda HP Barchetta\", \"Midnight Black\")\n",
        "car3 = Car (\"Rolls-Royce\", \"Sweptail\", \"Royal Blue\")\n",
        "\n",
        "print(f\"We have {len(Car.all_cars)} cars:\")\n",
        "Car.print_all_cars(car1)\n",
        "print()\n",
        "\n",
        "for car in Car.all_cars:\n",
        "  print(f\"{car.brand} in {car.colour}\")\n",
        "\n",
        "print()\n",
        "\n",
        "car1.voice(\"roar\")\n",
        "car2.voice(\"howl\")\n",
        "car3.voice(\"hum\")"
      ],
      "metadata": {
        "colab": {
          "base_uri": "https://localhost:8080/"
        },
        "id": "5MtrSBOzZbkV",
        "outputId": "e441171c-d568-41e1-e7fd-a2ad834c9521"
      },
      "execution_count": 17,
      "outputs": [
        {
          "output_type": "stream",
          "name": "stdout",
          "text": [
            "We have 3 cars:\n",
            "1. Bugatti La Voiture Noire\n",
            "2. Pagani Zonda HP Barchetta\n",
            "3. Rolls-Royce Sweptail\n",
            "\n",
            "Bugatti in Jet Black\n",
            "Pagani in Midnight Black\n",
            "Rolls-Royce in Royal Blue\n",
            "\n",
            "Bugatti sounds like roar\n",
            "Pagani sounds like howl\n",
            "Rolls-Royce sounds like hum\n"
          ]
        }
      ]
    },
    {
      "cell_type": "code",
      "source": [
        "# VERSION 2\n",
        "\n",
        "class Kid:\n",
        "  def __init__(self, name, age, favourite_color, occupation):\n",
        "    self.name = name\n",
        "    self.age = age\n",
        "    self.favourite_color = favourite_color\n",
        "    self.occupation = occupation\n",
        "    self.sound = \"Hello!\"\n",
        "\n",
        "  def introduce(self):\n",
        "    print(f'{self.sound} My name is {self.name}, i am {self.age} years old and my favourite color is {self.favourite_color}. When i grow up, Im gonna be {self.occupation}.')\n",
        "\n",
        "kids = [\n",
        "    Kid('Kevin', 8, 'yellow', 'an astronaut'),\n",
        "    Kid('Kaisa', 6, 'pink', 'a dentist'),\n",
        "    Kid('Thomas', 9, 'green', 'a president'),\n",
        "    Kid('Leila', 5, 'red', 'a mom')\n",
        "]\n",
        "\n",
        "for kid in kids:\n",
        "    kid.introduce()\n",
        "    sound_input = (input('Type new sound for kid or write stop to finish: '))\n",
        "    if sound_input.lower()=='stop':\n",
        "      print(f'you have finished with updating the sound.')\n",
        "      break\n",
        "    else:\n",
        "      kid.sound=sound_input\n",
        "      kid.introduce()"
      ],
      "metadata": {
        "colab": {
          "base_uri": "https://localhost:8080/"
        },
        "id": "0J-8fpDoZimO",
        "outputId": "9f093f23-f120-424c-ea82-910615b2f55c"
      },
      "execution_count": null,
      "outputs": [
        {
          "output_type": "stream",
          "name": "stdout",
          "text": [
            "Hello! My name is Kevin, i am 8 years old and my favourite color is yellow. When i grow up, Im gonna be an astronaut.\n",
            "Type new sound for kid or write stop to finish: hei\n",
            "hei My name is Kevin, i am 8 years old and my favourite color is yellow. When i grow up, Im gonna be an astronaut.\n",
            "Hello! My name is Kaisa, i am 6 years old and my favourite color is pink. When i grow up, Im gonna be a dentist.\n"
          ]
        }
      ]
    }
  ]
}
