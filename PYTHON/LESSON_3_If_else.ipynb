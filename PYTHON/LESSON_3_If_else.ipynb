{
  "nbformat": 4,
  "nbformat_minor": 0,
  "metadata": {
    "colab": {
      "provenance": []
    },
    "kernelspec": {
      "name": "python3",
      "display_name": "Python 3"
    },
    "language_info": {
      "name": "python"
    }
  },
  "cells": [
    {
      "cell_type": "code",
      "execution_count": 6,
      "metadata": {
        "colab": {
          "base_uri": "https://localhost:8080/"
        },
        "id": "OvtzSQjHF2h0",
        "outputId": "bf0599ee-071a-4596-c298-be348e90105e"
      },
      "outputs": [
        {
          "output_type": "stream",
          "name": "stdout",
          "text": [
            "True\n",
            "False\n"
          ]
        }
      ],
      "source": [
        "# Equal (==)\n",
        "x = 5\n",
        "y = 5\n",
        "\n",
        "print(x == 5)\n",
        "print(\"1\" == 1)"
      ]
    },
    {
      "cell_type": "code",
      "source": [
        "# Not equal (!=)\n",
        "print(x != y)"
      ],
      "metadata": {
        "colab": {
          "base_uri": "https://localhost:8080/"
        },
        "id": "vhyouAbSGHnw",
        "outputId": "eaf1a39b-201a-4a97-8db0-c552b79f8dc7"
      },
      "execution_count": 7,
      "outputs": [
        {
          "output_type": "stream",
          "name": "stdout",
          "text": [
            "False\n"
          ]
        }
      ]
    },
    {
      "cell_type": "code",
      "source": [
        "# Greater than (>)\n",
        "print(x > 2)"
      ],
      "metadata": {
        "colab": {
          "base_uri": "https://localhost:8080/"
        },
        "id": "72hvdBUzGKHa",
        "outputId": "b93dba6e-6b6f-441a-a109-e580a4e19bdb"
      },
      "execution_count": 8,
      "outputs": [
        {
          "output_type": "stream",
          "name": "stdout",
          "text": [
            "True\n"
          ]
        }
      ]
    },
    {
      "cell_type": "code",
      "source": [
        "# Less then  (<)\n",
        "print ( x < 10)"
      ],
      "metadata": {
        "colab": {
          "base_uri": "https://localhost:8080/"
        },
        "id": "kPvl51AQGKFO",
        "outputId": "0b93f863-178b-4895-df93-96b07bf888b5"
      },
      "execution_count": 9,
      "outputs": [
        {
          "output_type": "stream",
          "name": "stdout",
          "text": [
            "True\n"
          ]
        }
      ]
    },
    {
      "cell_type": "code",
      "source": [
        "# Greater than or equal to (>=)\n",
        "print( x >= 5 )"
      ],
      "metadata": {
        "colab": {
          "base_uri": "https://localhost:8080/"
        },
        "id": "61S8j6hXGKCH",
        "outputId": "1747390a-692d-47d4-8748-7158d6c3c302"
      },
      "execution_count": 10,
      "outputs": [
        {
          "output_type": "stream",
          "name": "stdout",
          "text": [
            "True\n"
          ]
        }
      ]
    },
    {
      "cell_type": "code",
      "source": [
        "# If Else statements\n",
        "\n",
        "x = 100\n",
        "if x < 50:\n",
        "  print(\"Less than 50\")\n",
        "else:\n",
        "  print (\"More than or egual 50\")\n",
        "\n",
        "print(\"Finish\")"
      ],
      "metadata": {
        "colab": {
          "base_uri": "https://localhost:8080/"
        },
        "id": "U87K9IKIGJ_r",
        "outputId": "6234d41d-313e-4790-d7ed-b9ed33d379c1"
      },
      "execution_count": 11,
      "outputs": [
        {
          "output_type": "stream",
          "name": "stdout",
          "text": [
            "More than or egual 50\n",
            "Finish\n"
          ]
        }
      ]
    },
    {
      "cell_type": "code",
      "source": [
        "a = 20\n",
        "\n",
        "if a > 10:\n",
        "  print(\"a is obove 10\")\n",
        "  print(\"This is still in the block\")\n",
        "print(\"This is outside of the block\")"
      ],
      "metadata": {
        "colab": {
          "base_uri": "https://localhost:8080/"
        },
        "id": "-KohbHeEGJ6S",
        "outputId": "b84f42f8-855e-495b-998e-e62854293e63"
      },
      "execution_count": 12,
      "outputs": [
        {
          "output_type": "stream",
          "name": "stdout",
          "text": [
            "a is obove 10\n",
            "This is still in the block\n",
            "This is outside of the block\n"
          ]
        }
      ]
    },
    {
      "cell_type": "code",
      "source": [
        "age = int(input(\"Please enter Your age: \"))\n",
        "\n",
        "if age >= 18:\n",
        "  print(\"You are eligible to vote\")\n",
        "  print(\"Please proceed to the voting booth\")\n",
        "else:\n",
        "  print(\"You are not odl enough to vote\")\n",
        "\n",
        "print(\"Thank You for participating\")"
      ],
      "metadata": {
        "colab": {
          "base_uri": "https://localhost:8080/"
        },
        "id": "WBlcXVwzGJs8",
        "outputId": "e45ab041-5a60-4faa-b541-d4f4ab4202ba"
      },
      "execution_count": 13,
      "outputs": [
        {
          "output_type": "stream",
          "name": "stdout",
          "text": [
            "Please enter Your age: 23\n",
            "You are eligible to vote\n",
            "Please proceed to the voting booth\n",
            "Thank You for participating\n"
          ]
        }
      ]
    },
    {
      "cell_type": "code",
      "source": [
        "# % MODULUS\n",
        "\n",
        "number = int(input(\"Enter a number: \"))\n",
        "\n",
        "# check if the number is even or odd (can be devided by2 or not)\n",
        "if number % 2 == 0:\n",
        "  print(f\"The {number} is even\")\n",
        "else:\n",
        "  print(f\"The {number} is odd\")\n",
        "\n",
        "# If the transaction can be done on the account balance\n",
        "try:\n",
        "\n",
        "  account_balance = float(input(\"Enter Your account balance: \"))\n",
        "  transaction_amount = float(input(\"Enter the transaction amount: \"))\n",
        "\n",
        "  if account_balance >= transaction_amount:\n",
        "    print(\"Payment approved.\")\n",
        "  else:\n",
        "    print(\"Insufficient found\")\n",
        "except Exception as e:\n",
        "  print(f\"Wrong input, exception was {e}\")\n",
        "except:\n",
        "  print(\"Wrong input\")"
      ],
      "metadata": {
        "colab": {
          "base_uri": "https://localhost:8080/"
        },
        "id": "gRkuTQFuGjjX",
        "outputId": "571c9d77-5371-487d-ed69-c2deab0c1294"
      },
      "execution_count": 14,
      "outputs": [
        {
          "output_type": "stream",
          "name": "stdout",
          "text": [
            "Enter a number: 23\n",
            "The 23 is odd\n",
            "Enter Your account balance: 23\n",
            "Enter the transaction amount: 6\n",
            "Payment approved.\n"
          ]
        }
      ]
    },
    {
      "cell_type": "markdown",
      "source": [
        "# Access management systems"
      ],
      "metadata": {
        "id": "zc4FeLqCG0e5"
      }
    },
    {
      "cell_type": "code",
      "source": [
        "#username\n",
        "#password\n",
        "\n",
        "STORED_USERNAME = \"user123\"\n",
        "STORED_PASSWORD = \"pass123\"\n",
        "\n",
        "username = input(\"Please enter username: \")\n",
        "password = input(\"Please enter password: \")\n",
        "\n",
        "if STORED_USERNAME == username and STORED_PASSWORD == password:\n",
        "  print(\"Access  granted.\")\n",
        "else:\n",
        "  print(\"Access denied.\")"
      ],
      "metadata": {
        "colab": {
          "base_uri": "https://localhost:8080/"
        },
        "id": "ZvdIVY_PGyWX",
        "outputId": "41342ff0-4da9-4861-8c82-877ebe7f8c47"
      },
      "execution_count": 15,
      "outputs": [
        {
          "output_type": "stream",
          "name": "stdout",
          "text": [
            "Please enter username: Helina\n",
            "Please enter password: 1234\n",
            "Access denied.\n"
          ]
        }
      ]
    },
    {
      "cell_type": "markdown",
      "source": [
        "# Multi way decisions"
      ],
      "metadata": {
        "id": "rhhz24OIG40w"
      }
    },
    {
      "cell_type": "code",
      "source": [
        "x = 10\n",
        "\n",
        "if x < 5:\n",
        "  print(\"Small\")\n",
        "elif x < 15:\n",
        "  print(\"Medium\")\n",
        "else:\n",
        "  print(\"Large\")\n",
        "\n",
        "print(\"All done\")"
      ],
      "metadata": {
        "colab": {
          "base_uri": "https://localhost:8080/"
        },
        "id": "pg6MhIE2G3N4",
        "outputId": "3c696b07-047a-4295-95d7-4c17c7c36979"
      },
      "execution_count": 16,
      "outputs": [
        {
          "output_type": "stream",
          "name": "stdout",
          "text": [
            "Medium\n",
            "All done\n"
          ]
        }
      ]
    },
    {
      "cell_type": "markdown",
      "source": [
        "# Grading task"
      ],
      "metadata": {
        "id": "7mloMXl2G9NW"
      }
    },
    {
      "cell_type": "code",
      "source": [
        "# Grading in scale 100, convert 100 to ABCDEF\n",
        "\n",
        "try:\n",
        "  score = int (input(\"Enter Your score: \"))\n",
        "\n",
        "  if score >= 90:\n",
        "    print(\"Your grade is A!\")\n",
        "  elif score >= 80:\n",
        "    print(\"Your grade is B!\")\n",
        "  elif score >= 70:\n",
        "    print(\"Your grade is C!\")\n",
        "  elif score >= 60:\n",
        "    print(\"Your grade is D!\")\n",
        "  elif score >= 50:\n",
        "    print(\"Your grade is E!\")\n",
        "  elif score >= 50 and score < 60 or score == 40:\n",
        "    print(\"Between 50 and 60 or 40\")\n",
        "  else:\n",
        "    print(\"Your grade is F!\")\n",
        "except Exception as e:\n",
        "  print(f\"Exception {e}\")"
      ],
      "metadata": {
        "colab": {
          "base_uri": "https://localhost:8080/"
        },
        "id": "kms-R0K9G7BW",
        "outputId": "ab70bc92-23de-4c78-df51-3e8318cee2aa"
      },
      "execution_count": 17,
      "outputs": [
        {
          "output_type": "stream",
          "name": "stdout",
          "text": [
            "Enter Your score: 34\n",
            "Your grade is F!\n"
          ]
        }
      ]
    },
    {
      "cell_type": "markdown",
      "source": [
        "# HOMEWORK\n",
        "\n",
        "Create a Python program for temperature conversion between Celsius and Fahrenheit scales.\n",
        "\n",
        "The program should:\n",
        "- prompt users to select the direction of conversion\n",
        "- accept input for the temperature value, and accurately perform the conversion (use IF and/or ELSE)\n",
        "- Output should be displayed with formatted strings showing both the original and converted temperatures.\n"
      ],
      "metadata": {
        "id": "kheBqZUWHAcB"
      }
    },
    {
      "cell_type": "code",
      "source": [
        "direction_of_conversion = input(\"Please select direction of conversion: A = Fahrenheit to Celsius, B = Celsius to Fahrenheit: \").upper()\n",
        "\n",
        "try:\n",
        "  if direction_of_conversion == \"A\":\n",
        "    temp = float(input(\"Please enter temperature in Fahrenheit: \"))\n",
        "    converted_F_to_C = round((temp - 32) * 5/9, 2)\n",
        "    print(f\"{temp}°F is {converted_F_to_C}°C\")\n",
        "\n",
        "  elif direction_of_conversion == \"B\":\n",
        "    temp = float(input(\"Please enter temperature in Celisus: \"))\n",
        "    converted_C_to_F = round((temp*9/5 + 32), 2)\n",
        "    print(f\"{temp}°C is {converted_C_to_F}°F\")\n",
        "  else:\n",
        "    print(\"Try again, please choose A or B\")\n",
        "except:\n",
        "  print(\"Please enter a number for temperature. Try again.\")"
      ],
      "metadata": {
        "colab": {
          "base_uri": "https://localhost:8080/"
        },
        "id": "-a4IUt_IHAMA",
        "outputId": "d0766ee3-1bfa-4909-e598-d18dde40c9a0"
      },
      "execution_count": 18,
      "outputs": [
        {
          "output_type": "stream",
          "name": "stdout",
          "text": [
            "Please select direction of conversion: A = Fahrenheit to Celsius, B = Celsius to Fahrenheit: B\n",
            "Please enter temperature in Celisus: 30\n",
            "30.0°C is 86.0°F\n"
          ]
        }
      ]
    }
  ]
}