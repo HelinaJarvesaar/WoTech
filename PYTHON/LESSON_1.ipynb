{
  "nbformat": 4,
  "nbformat_minor": 0,
  "metadata": {
    "colab": {
      "provenance": []
    },
    "kernelspec": {
      "name": "python3",
      "display_name": "Python 3"
    },
    "language_info": {
      "name": "python"
    }
  },
  "cells": [
    {
      "cell_type": "code",
      "source": [
        "#this is a comment\n",
        "this_is_variable = \"Good morning WoTech\"\n",
        "print(this_is_variable)"
      ],
      "metadata": {
        "colab": {
          "base_uri": "https://localhost:8080/"
        },
        "id": "D_uhtTy4Benu",
        "outputId": "6c1cadf7-7c6b-491c-c637-ebddb1e3d3b1"
      },
      "execution_count": 2,
      "outputs": [
        {
          "output_type": "stream",
          "name": "stdout",
          "text": [
            "Good morning WoTech\n"
          ]
        }
      ]
    },
    {
      "cell_type": "code",
      "source": [
        "this_is_variable  = 14\n",
        "print(this_is_variable)"
      ],
      "metadata": {
        "colab": {
          "base_uri": "https://localhost:8080/"
        },
        "id": "qUjRPe52Beg2",
        "outputId": "8c75528d-a42f-4f2f-a2e0-cec51e9c91f0"
      },
      "execution_count": 5,
      "outputs": [
        {
          "output_type": "stream",
          "name": "stdout",
          "text": [
            "14\n"
          ]
        }
      ]
    },
    {
      "cell_type": "code",
      "source": [
        "name = \"Anna\" #text/string\n",
        "surname = \" Johnson\" #text/string\n",
        "age = 35 #integer\n",
        "occupation = \"Programmer\" #text/string\n",
        "univeristy_graduate = False #boolean\n",
        "height = 172.23 #float\n",
        "\n",
        "print(name, surname, age, occupation, univeristy_graduate, height)\n",
        "print(f\"Full name: {name}{surname}\\nOccupation: {occupation}\\nUni degree: {univeristy_graduate}\")"
      ],
      "metadata": {
        "colab": {
          "base_uri": "https://localhost:8080/"
        },
        "id": "aTS4lZNRBeZa",
        "outputId": "5f7b1091-a76f-4658-a504-7bd263fd29e2"
      },
      "execution_count": 6,
      "outputs": [
        {
          "output_type": "stream",
          "name": "stdout",
          "text": [
            "Anna  Johnson 35 Programmer False 172.23\n",
            "Full name: Anna Johnson\n",
            "Occupation: Programmer\n",
            "Uni degree: False\n"
          ]
        }
      ]
    },
    {
      "cell_type": "code",
      "source": [
        "# we are preparing for a party\n",
        "guest_1 = 'John' #string ' ' or \" \"\n",
        "guest_2 = 'Anna'\n",
        "guest_3 = 'Jennifer'\n",
        "\n",
        "print(guest_1, guest_2, guest_3)\n",
        "guests = [\"John\", \"Anna\", \"Jennifer\", \"Kerli\"] #list\n",
        "print(guests)"
      ],
      "metadata": {
        "colab": {
          "base_uri": "https://localhost:8080/"
        },
        "id": "lB4DUdVDBeRe",
        "outputId": "8d79f140-3184-41e4-810c-4170a58e53c6"
      },
      "execution_count": 7,
      "outputs": [
        {
          "output_type": "stream",
          "name": "stdout",
          "text": [
            "John Anna Jennifer\n",
            "['John', 'Anna', 'Jennifer', 'Kerli']\n"
          ]
        }
      ]
    },
    {
      "cell_type": "code",
      "source": [
        "name = input(\"Enter your name: \")\n",
        "print(f\"Hello {name}, nice to meet you!\") # format string\n",
        "print(\"Hello\",name, \", nice to meet you!\") #non format string\n",
        "\n",
        "print(f\"Hello {name}, I would like to read the book 'Hamlet'.\")"
      ],
      "metadata": {
        "colab": {
          "base_uri": "https://localhost:8080/"
        },
        "id": "gdLcXPnKBeJK",
        "outputId": "cf5dcb93-9956-498b-e2a2-24225dfde8a4"
      },
      "execution_count": 8,
      "outputs": [
        {
          "output_type": "stream",
          "name": "stdout",
          "text": [
            "Enter your name: Helina\n",
            "Hello Helina, nice to meet you!\n",
            "Hello Helina , nice to meet you!\n",
            "Hello Helina, I would like to read the book 'Hamlet'.\n"
          ]
        }
      ]
    }
  ]
}