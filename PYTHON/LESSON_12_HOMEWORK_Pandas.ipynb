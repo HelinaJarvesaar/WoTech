{
  "nbformat": 4,
  "nbformat_minor": 0,
  "metadata": {
    "colab": {
      "provenance": []
    },
    "kernelspec": {
      "name": "python3",
      "display_name": "Python 3"
    },
    "language_info": {
      "name": "python"
    }
  },
  "cells": [
    {
      "cell_type": "markdown",
      "source": [
        "### EASY:\n",
        "- read the data from prices.txt (see additional files)\n",
        "\n",
        "- compute the total price of all items\n",
        "\n",
        "- count the total number of purchased items"
      ],
      "metadata": {
        "id": "SC40Jvy1iS_W"
      }
    },
    {
      "cell_type": "code",
      "execution_count": 2,
      "metadata": {
        "colab": {
          "base_uri": "https://localhost:8080/"
        },
        "id": "yzAF2tvHh7e8",
        "outputId": "8b760982-cedb-4aa0-e96e-ae77880d62f4"
      },
      "outputs": [
        {
          "output_type": "stream",
          "name": "stdout",
          "text": [
            "3.25\n",
            "1.56\n",
            "3\n",
            "8.99\n",
            "0.52\n",
            "\n",
            "\n",
            "Total price: 17.32\n",
            "Total number of purchases: 5\n"
          ]
        }
      ],
      "source": [
        "import pandas as pd\n",
        "\n",
        "with open('prices.txt', 'r') as file:\n",
        "    lines = file.read()\n",
        "\n",
        "print(lines)\n",
        "\n",
        "\n",
        "with open('prices.txt', 'r') as file:\n",
        "    lines = file.readlines()\n",
        "\n",
        "prices = []\n",
        "for line in lines:\n",
        "  line = line.strip()\n",
        "  try:\n",
        "    price = float(line)\n",
        "    prices.append(price)\n",
        "  except:\n",
        "    pass\n",
        "\n",
        "total_price = sum(prices)\n",
        "total_number_purcheses = len(prices)\n",
        "\n",
        "print(f'Total price: {total_price}')\n",
        "print(f'Total number of purchases: {total_number_purcheses}')"
      ]
    },
    {
      "cell_type": "markdown",
      "source": [
        "###MEDIUM:\n",
        "- skip rows that contain anything other than a number in the code.\n",
        "\n",
        " (Modify your program in such a way that all rows that contain something else than a number, are skipped.)\n"
      ],
      "metadata": {
        "id": "tLP8aVkfiXUS"
      }
    },
    {
      "cell_type": "code",
      "source": [
        "import pandas as pd\n",
        "\n",
        "with open('prices.txt', 'r') as file:\n",
        "    lines = file.read()\n",
        "\n",
        "print(lines)\n",
        "\n",
        "\n",
        "with open('prices.txt', 'r') as file:\n",
        "    lines = file.readlines()\n",
        "\n",
        "prices = []\n",
        "count_lines_with_numbers = 0\n",
        "\n",
        "for line in lines:\n",
        "  line = line.strip()\n",
        "  try:\n",
        "    price = float(line)\n",
        "    prices.append(price)\n",
        "    count_lines_with_numbers += 1\n",
        "  except:\n",
        "    continue\n",
        "\n",
        "total_price = sum(prices)\n",
        "\n",
        "print(f'Total price: {total_price}')\n",
        "print(f'Total number of purchases: {count_lines_with_numbers}')"
      ],
      "metadata": {
        "colab": {
          "base_uri": "https://localhost:8080/"
        },
        "id": "aPm64kJzia-q",
        "outputId": "ebb43c1e-67d1-47d2-c789-828633388163"
      },
      "execution_count": 3,
      "outputs": [
        {
          "output_type": "stream",
          "name": "stdout",
          "text": [
            "3.25\n",
            "1.56\n",
            "3\n",
            "8.99\n",
            "0.52\n",
            "\n",
            "\n",
            "Total price: 17.32\n",
            "Total number of purchases: 5\n"
          ]
        }
      ]
    }
  ]
}