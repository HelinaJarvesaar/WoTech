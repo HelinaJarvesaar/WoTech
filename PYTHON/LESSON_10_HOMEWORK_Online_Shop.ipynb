{
  "nbformat": 4,
  "nbformat_minor": 0,
  "metadata": {
    "colab": {
      "provenance": []
    },
    "kernelspec": {
      "name": "python3",
      "display_name": "Python 3"
    },
    "language_info": {
      "name": "python"
    }
  },
  "cells": [
    {
      "cell_type": "markdown",
      "source": [
        "## Develop a simple prototype for an online shop\n",
        "1. Define classes Client, Items, Transaction\n",
        "2. Write the logic so that each client can purchase one of several items in a single transaction\n",
        "3. Make a printout of data with nested loops\n",
        "4. The program should print out:\n",
        "- all clients\n",
        "- all transactions of a client\n",
        "- all items purchased in each transaction of the client"
      ],
      "metadata": {
        "id": "bNpVZHORbK0u"
      }
    },
    {
      "cell_type": "code",
      "execution_count": 1,
      "metadata": {
        "id": "XSQzKZ0LbFO_"
      },
      "outputs": [],
      "source": [
        "class Client:\n",
        "\n",
        "  number_of_clients = 0\n",
        "\n",
        "  def __init__(self, name, foot_size):\n",
        "    self.name = name\n",
        "    self.foot_size = foot_size\n",
        "    self.transactions = []\n",
        "    Client.number_of_clients += 1\n",
        "\n",
        "  def add_transaction(self, transaction):\n",
        "    self.transactions.append(transaction)\n",
        "\n",
        "  def making_purchase (self, shoe):\n",
        "    Shoe.number_of_shoes -= 1\n",
        "    transaction = Transaction(shoe.shoe_size, shoe.colour, shoe.price)\n",
        "    self.add_transaction(transaction)"
      ]
    },
    {
      "cell_type": "code",
      "source": [
        "class Shoe:\n",
        "\n",
        "  number_of_shoes = 0\n",
        "  def __init__(self, shoe_size, colour, price):\n",
        "    self.shoe_size = shoe_size\n",
        "    self.colour = colour\n",
        "    self.price = price\n",
        "    Shoe.number_of_shoes += 1"
      ],
      "metadata": {
        "id": "a6xZ346ybQ-N"
      },
      "execution_count": 2,
      "outputs": []
    },
    {
      "cell_type": "code",
      "source": [
        "class Transaction:\n",
        "\n",
        "  def __init__(self, shoe_size, colour, price):\n",
        "    self.shoe_size = shoe_size\n",
        "    self.colour = colour\n",
        "    self.price = price"
      ],
      "metadata": {
        "id": "n-MabHmCbSmb"
      },
      "execution_count": 3,
      "outputs": []
    },
    {
      "cell_type": "code",
      "source": [
        "clients = []\n",
        "clients.append(Client(\"Anna\", 38))\n",
        "clients.append(Client(\"Rita\", 39))\n",
        "clients.append(Client(\"Eva\", 40))"
      ],
      "metadata": {
        "id": "x6H_maTxbUIh"
      },
      "execution_count": 4,
      "outputs": []
    },
    {
      "cell_type": "code",
      "source": [
        "shoes = []\n",
        "shoes.append(Shoe(37,\"black\", 59.99))\n",
        "shoes.append(Shoe(38,\"black\", 59.99))\n",
        "shoes.append(Shoe(39,\"black\", 59.99))\n",
        "shoes.append(Shoe(37,\"red\", 69.99))\n",
        "shoes.append(Shoe(38,\"red\", 69.99))\n",
        "shoes.append(Shoe(39,\"red\", 69.99))"
      ],
      "metadata": {
        "id": "nkLsKDURbWQq"
      },
      "execution_count": 5,
      "outputs": []
    },
    {
      "cell_type": "code",
      "source": [
        "clients[0].making_purchase(Shoe(38,\"black\", 59.99))\n",
        "clients[0].making_purchase(Shoe(38,\"red\", 69.99))\n",
        "clients[1].making_purchase(Shoe(39,\"black\", 59.99))"
      ],
      "metadata": {
        "id": "K5FT7xCwbX5j"
      },
      "execution_count": 6,
      "outputs": []
    },
    {
      "cell_type": "code",
      "source": [
        "print(f\"We have {Shoe.number_of_shoes} pairs of shoes in stock:\")\n",
        "for shoe in shoes:\n",
        "  print(f\"Size: {shoe.shoe_size}, Colour: {shoe.colour}, Price: {shoe.price}\")"
      ],
      "metadata": {
        "colab": {
          "base_uri": "https://localhost:8080/"
        },
        "id": "5zgaRAknbaET",
        "outputId": "0d2ee21c-9a45-4e7a-9a85-074705366c3c"
      },
      "execution_count": 7,
      "outputs": [
        {
          "output_type": "stream",
          "name": "stdout",
          "text": [
            "We have 6 pairs of shoes in stock:\n",
            "Size: 37, Colour: black, Price: 59.99\n",
            "Size: 38, Colour: black, Price: 59.99\n",
            "Size: 39, Colour: black, Price: 59.99\n",
            "Size: 37, Colour: red, Price: 69.99\n",
            "Size: 38, Colour: red, Price: 69.99\n",
            "Size: 39, Colour: red, Price: 69.99\n"
          ]
        }
      ]
    },
    {
      "cell_type": "code",
      "source": [
        "print(f\"\\nWe have {Client.number_of_clients} clients: \")"
      ],
      "metadata": {
        "colab": {
          "base_uri": "https://localhost:8080/"
        },
        "id": "UL_dcipAbZ78",
        "outputId": "0ca2abc3-279b-4a92-f974-662b40f9a8d2"
      },
      "execution_count": 8,
      "outputs": [
        {
          "output_type": "stream",
          "name": "stdout",
          "text": [
            "\n",
            "We have 3 clients: \n"
          ]
        }
      ]
    },
    {
      "cell_type": "code",
      "source": [
        "for client in clients:\n",
        "  if ((len(client.transactions)) > 1 or (len(client.transactions)) == 0 ):\n",
        "    print(f\"  {client.name} has made {len(client.transactions)} purchases: \")\n",
        "    for transaction in client.transactions:\n",
        "      print(f\"    {transaction.shoe_size}, {transaction.colour}, {transaction.price} \")\n",
        "  else:\n",
        "    print(f\"  {client.name} has made {len(client.transactions)} purchase: \")\n",
        "    for transaction in client.transactions:\n",
        "      print(f\"    {transaction.shoe_size}, {transaction.colour}\")"
      ],
      "metadata": {
        "colab": {
          "base_uri": "https://localhost:8080/"
        },
        "id": "y3N-8C7-bepw",
        "outputId": "a350a864-2674-4177-d0b3-4a0126ca927f"
      },
      "execution_count": 9,
      "outputs": [
        {
          "output_type": "stream",
          "name": "stdout",
          "text": [
            "  Anna has made 2 purchases: \n",
            "    38, black, 59.99 \n",
            "    38, red, 69.99 \n",
            "  Rita has made 1 purchase: \n",
            "    39, black\n",
            "  Eva has made 0 purchases: \n"
          ]
        }
      ]
    }
  ]
}