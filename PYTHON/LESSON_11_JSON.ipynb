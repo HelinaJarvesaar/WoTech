{
  "nbformat": 4,
  "nbformat_minor": 0,
  "metadata": {
    "colab": {
      "provenance": []
    },
    "kernelspec": {
      "name": "python3",
      "display_name": "Python 3"
    },
    "language_info": {
      "name": "python"
    }
  },
  "cells": [
    {
      "cell_type": "markdown",
      "source": [
        "##Save the data to a JSON file"
      ],
      "metadata": {
        "id": "K3B7ZwxDcoZX"
      }
    },
    {
      "cell_type": "code",
      "execution_count": 1,
      "metadata": {
        "id": "y_6Ll4gsckV4"
      },
      "outputs": [],
      "source": [
        "import json\n",
        "import datetime\n",
        "\n",
        "class Client:\n",
        "  pass  #nothing happens here\n",
        "\n",
        "  number_of_clients = 0\n",
        "\n",
        "  def __init__ (self, id, name):    # i dont't require account, cause I dont want to add list\n",
        "    self.id = id                    # self.id ehk each clients id = id\n",
        "    self.name = name\n",
        "    self.accounts =[]\n",
        "    Client.number_of_clients += 1\n",
        "\n",
        "  def add_account(self, account):\n",
        "    self.accounts.append(account)    # adding new account\n",
        "\n",
        "  def to_dict(self):\n",
        "        return {\n",
        "            'id': self.id,\n",
        "            'name': self.name,\n",
        "            'accounts': [account.to_dict() for account in self.accounts]\n",
        "        }"
      ]
    },
    {
      "cell_type": "code",
      "source": [
        "class Account:\n",
        "  def __init__ (self, number, currency, balance = 0.0): # it will ask for blance but if we do not provide, then it is 0\n",
        "    self.number = number\n",
        "    self.currency = currency\n",
        "    self.balance = balance\n",
        "    self.transactions = []\n",
        "\n",
        "  def make_deposite(self, amount, note):    # every account can make deposit\n",
        "    self.transactions.append(Transaction(self.currency, amount, note))\n",
        "    self.balance += amount\n",
        "\n",
        "  def make_withdrawal (self,amount, note):\n",
        "    self.transactions.append(Transaction(self.currency, -amount, note))\n",
        "    self.balance -= amount  # every account can make withdarwal\n",
        "\n",
        "  def to_dict(self):\n",
        "        return {\n",
        "            'number': self.number,\n",
        "            'currency': self.currency,\n",
        "            'balance': self.balance,\n",
        "            'transactions': [transaction.to_dict() for transaction in self.transactions]\n",
        "        }"
      ],
      "metadata": {
        "id": "lkUysWFjctN1"
      },
      "execution_count": 3,
      "outputs": []
    },
    {
      "cell_type": "code",
      "source": [
        "class Transaction:\n",
        "  def __init__(self, currency, amount, note):\n",
        "    self.currency = currency\n",
        "    self.amount = amount\n",
        "    self.note = note\n",
        "    self.time_stamp = datetime.datetime.now()  # adds automatically (google...import datetime) -\n",
        "                                               # when transaction is made we made transaction object and it automatically adds datetime\n",
        "                                               # in this (without parameter require) way no one can owerwrite it, its safer!\n",
        "  def to_dict(self):\n",
        "        return {\n",
        "            'currency': self.currency,\n",
        "            'amount': self.amount,\n",
        "            'note': self.note,\n",
        "            'time_stamp': self.time_stamp.isoformat()\n",
        "        }"
      ],
      "metadata": {
        "id": "Vp-28UzbcwNr"
      },
      "execution_count": 4,
      "outputs": []
    },
    {
      "cell_type": "code",
      "source": [
        "# adding clients to list\n",
        "clients = []\n",
        "clients.append(Client(\"12345\", \"Anna\"))\n",
        "clients.append(Client(\"5678\", \"Oskar\"))\n",
        "clients.append(Client(\"13567\", \"Elsa\"))"
      ],
      "metadata": {
        "id": "6BAh7P1gczlE"
      },
      "execution_count": 5,
      "outputs": []
    },
    {
      "cell_type": "code",
      "source": [
        "# adding accounts to clients\n",
        "clients[0].add_account(Account(\"EE2348598\", \"EUR\", 1000.00)) # we add account to client [0]\n",
        "clients[0].add_account(Account(\"EE3457725\", \"JPY\", 25000.00))    # we add another account to client [0]\n",
        "clients[0].add_account(Account(\"EE4330976\", \"USD\"))\n",
        "clients[1].add_account(Account(\"EE2340975\", \"PLN\", 47800.00))\n",
        "clients[2].add_account(Account(\"EE2309534\", \"SEK\", 200.18))"
      ],
      "metadata": {
        "id": "eLFklDCvc1rK"
      },
      "execution_count": 6,
      "outputs": []
    },
    {
      "cell_type": "code",
      "source": [
        "#lets make some transactions\n",
        "clients[0].accounts[0].make_deposite(1200, \"Salary\")  # \"Salary\" is a note\n",
        "clients[0].accounts[0].make_withdrawal(50, \"Crocery\")\n",
        "clients[0].accounts[0].make_withdrawal(140, \"Clothes\")\n",
        "clients[0].accounts[0].make_withdrawal(20, \"Dinner\")"
      ],
      "metadata": {
        "id": "cwLHKYE7c5CT"
      },
      "execution_count": 7,
      "outputs": []
    },
    {
      "cell_type": "code",
      "source": [
        "# Collect all client data into a dictionary\n",
        "clients_data = [client.to_dict() for client in clients]"
      ],
      "metadata": {
        "id": "fcDW0B_Kc6Fh"
      },
      "execution_count": 8,
      "outputs": []
    },
    {
      "cell_type": "code",
      "source": [
        "# Save the data to a JSON file\n",
        "with open(\"clients_data.json\", \"w\") as outfile:\n",
        "    json.dump(clients_data, outfile, indent=4)"
      ],
      "metadata": {
        "id": "CdqKpSV4c7sl"
      },
      "execution_count": 9,
      "outputs": []
    },
    {
      "cell_type": "markdown",
      "source": [
        "## CSV - Comma Seperated Values\n",
        "id, name, accounts\n",
        "\n",
        "123456, Anna, \"[12345, 123454, 12344]\"\n",
        "\n",
        "23446, Oskar, \"[34346]\"\n",
        "\n",
        "43059736, Jennifer \"[233456]\" or \"233456\"\n",
        "\n",
        "\n",
        "id, name, surname, salary\n",
        "\n",
        "1235, Anna, Johanson, 8000\n",
        "\n",
        "23455, Oskar, Smith, 4000\n",
        "\n",
        "## JSON - Java Script Object Notation\n",
        "```\n",
        "{\n",
        "  \"clients\": [\n",
        "\n",
        "    {\n",
        "      \"id\": 12345\n",
        "      \"name\": \"Anna\",\n",
        "      \"accounts\": [\n",
        "        {\n",
        "          \"number\": \"EE2348598\",\n",
        "          \"currency\": EUR,\n",
        "          \"balance\": 1000\n",
        "        },\n",
        "        {\n",
        "          \"number\": \"EE3457725\",\n",
        "          \"currency\": JPY,\n",
        "          \"balance\": 25000\n",
        "        },\n",
        "        {\n",
        "          \"number\": \"EE4330976\",\n",
        "          \"currency\": USD,\n",
        "          \"balance\":\n",
        "        }\n",
        "      ]\n",
        "    },\n",
        "\n",
        "    {\n",
        "      \"id\": 5678\n",
        "      \"name\": \"Oskar\",\n",
        "      \"accounts\": [\n",
        "        {\n",
        "          \"number\": \"EE2340975\",\n",
        "          \"currency\": PLN,\n",
        "          \"balance\": 47800\n",
        "        }\n",
        "      ]\n",
        "    },\n",
        "\n",
        "    {\n",
        "      \"id\": 13567\n",
        "      \"name\": \"Elsa\",\n",
        "      \"accounts\": [\n",
        "        {\n",
        "          \"number\": \"EE2309534\",\n",
        "          \"currency\": SEK,\n",
        "          \"balance\": 2000.18\n",
        "        }\n",
        "      ]\n",
        "    }\n",
        "\n",
        "  ]\n",
        "}\n",
        "\n",
        "```"
      ],
      "metadata": {
        "id": "JOF1PLE3c9d9"
      }
    },
    {
      "cell_type": "markdown",
      "source": [
        "## Convert and write JSON object to file"
      ],
      "metadata": {
        "id": "taHriGlLdIv6"
      }
    },
    {
      "cell_type": "code",
      "source": [
        "import json\n",
        "\n",
        "# Define student_details dictionary\n",
        "student_details ={\n",
        "    \"name\" : \"sathiyajith\",\n",
        "    \"rollno\" : 56,\n",
        "    \"cgpa\" : 8.6,\n",
        "    \"phonenumber\" : \"9976770500\"\n",
        "}"
      ],
      "metadata": {
        "id": "a2NazvdTdEvk"
      },
      "execution_count": 10,
      "outputs": []
    },
    {
      "cell_type": "code",
      "source": [
        "# Convert and write JSON object to file\n",
        "with open(\"sample.json\", \"w\") as outfile:\n",
        "    json.dump(student_details, outfile)"
      ],
      "metadata": {
        "id": "FBeYRLv7dMrM"
      },
      "execution_count": 11,
      "outputs": []
    },
    {
      "cell_type": "markdown",
      "source": [
        "##Reading JSON to dict (dictionary)"
      ],
      "metadata": {
        "id": "HI1Wa7OSdPWB"
      }
    },
    {
      "cell_type": "code",
      "source": [
        "# READING JSON TO DICTIONARY (dict)\n",
        "\n",
        "# Open JSON file\n",
        "with open(\"clients_data.json\") as json_file:\n",
        "  data = json.load(json_file)\n",
        "\n",
        "print(data)"
      ],
      "metadata": {
        "colab": {
          "base_uri": "https://localhost:8080/"
        },
        "id": "iCAMQdpWdP85",
        "outputId": "7de493ed-1658-45dd-d209-93846cd9eb7f"
      },
      "execution_count": 12,
      "outputs": [
        {
          "output_type": "stream",
          "name": "stdout",
          "text": [
            "[{'id': '12345', 'name': 'Anna', 'accounts': [{'number': 'EE2348598', 'currency': 'EUR', 'balance': 1990.0, 'transactions': [{'currency': 'EUR', 'amount': 1200, 'note': 'Salary', 'time_stamp': '2024-09-28T11:48:27.448389'}, {'currency': 'EUR', 'amount': -50, 'note': 'Crocery', 'time_stamp': '2024-09-28T11:48:27.448465'}, {'currency': 'EUR', 'amount': -140, 'note': 'Clothes', 'time_stamp': '2024-09-28T11:48:27.448525'}, {'currency': 'EUR', 'amount': -20, 'note': 'Dinner', 'time_stamp': '2024-09-28T11:48:27.448589'}]}, {'number': 'EE3457725', 'currency': 'JPY', 'balance': 25000.0, 'transactions': []}, {'number': 'EE4330976', 'currency': 'USD', 'balance': 0.0, 'transactions': []}]}, {'id': '5678', 'name': 'Oskar', 'accounts': [{'number': 'EE2340975', 'currency': 'PLN', 'balance': 47800.0, 'transactions': []}]}, {'id': '13567', 'name': 'Elsa', 'accounts': [{'number': 'EE2309534', 'currency': 'SEK', 'balance': 200.18, 'transactions': []}]}]\n"
          ]
        }
      ]
    },
    {
      "cell_type": "code",
      "source": [
        "# READING JSON TO DICTIONARY (dict)\n",
        "\n",
        "# Open JSON file\n",
        "with open(\"clients_data.json\") as json_file:\n",
        "  data = json.load(json_file)\n",
        "\n",
        "# printing names of all clients from dictionary\n",
        "for client in data:\n",
        "  print(client[\"name\"])\n",
        "for client in data:\n",
        "  print(f'{client[\"name\"]},{client[\"id\"]}')"
      ],
      "metadata": {
        "colab": {
          "base_uri": "https://localhost:8080/"
        },
        "id": "fi7G3GTXdTI3",
        "outputId": "b0279c04-6cc0-40be-b744-6ec32ab33ae5"
      },
      "execution_count": 15,
      "outputs": [
        {
          "output_type": "stream",
          "name": "stdout",
          "text": [
            "Anna\n",
            "Oskar\n",
            "Elsa\n",
            "Anna,12345\n",
            "Oskar,5678\n",
            "Elsa,13567\n"
          ]
        }
      ]
    }
  ]
}