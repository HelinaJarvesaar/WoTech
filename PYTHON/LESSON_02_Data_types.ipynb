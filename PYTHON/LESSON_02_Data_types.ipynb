{
  "nbformat": 4,
  "nbformat_minor": 0,
  "metadata": {
    "colab": {
      "provenance": []
    },
    "kernelspec": {
      "name": "python3",
      "display_name": "Python 3"
    },
    "language_info": {
      "name": "python"
    }
  },
  "cells": [
    {
      "cell_type": "code",
      "source": [
        "# Int\n",
        "x = 14\n",
        "\n",
        "print (x)\n",
        "print(type(x))\n",
        "\n",
        "x1 = -1\n",
        "print(type(x))"
      ],
      "metadata": {
        "colab": {
          "base_uri": "https://localhost:8080/"
        },
        "id": "xoG0RZbcDTKW",
        "outputId": "c9c5dd63-c2ae-4c31-9bee-955c2af047c3"
      },
      "execution_count": 9,
      "outputs": [
        {
          "output_type": "stream",
          "name": "stdout",
          "text": [
            "14\n",
            "<class 'int'>\n",
            "<class 'int'>\n"
          ]
        }
      ]
    },
    {
      "cell_type": "code",
      "source": [
        "# Floats\n",
        "nearly_pi = 3.14\n",
        "print(nearly_pi)\n",
        "print(type(nearly_pi))\n",
        "\n",
        "nearly_pi1 = 22/7\n",
        "print(nearly_pi1)\n",
        "print(type(nearly_pi1))"
      ],
      "metadata": {
        "colab": {
          "base_uri": "https://localhost:8080/"
        },
        "id": "2NTxzJVjDTET",
        "outputId": "25d7845f-aa47-4621-ed2c-7e72c8b2b797"
      },
      "execution_count": 10,
      "outputs": [
        {
          "output_type": "stream",
          "name": "stdout",
          "text": [
            "3.14\n",
            "<class 'float'>\n",
            "3.142857142857143\n",
            "<class 'float'>\n"
          ]
        }
      ]
    },
    {
      "cell_type": "code",
      "source": [
        "# Rounding float\n",
        "rounded_nearly_pi1 = round(nearly_pi1,2)\n",
        "print(rounded_nearly_pi1)\n",
        "print(type(rounded_nearly_pi1))\n",
        "\n",
        "type(round(nearly_pi1)) # deafault is 0 - outcome is INT\n",
        "type(round(nearly_pi1,0)) # I actually entered zero , outcome is FLOAT"
      ],
      "metadata": {
        "colab": {
          "base_uri": "https://localhost:8080/"
        },
        "id": "tgOcK1A_DS-0",
        "outputId": "3701de80-4544-4653-8393-d16236e514e7"
      },
      "execution_count": 11,
      "outputs": [
        {
          "output_type": "stream",
          "name": "stdout",
          "text": [
            "3.14\n",
            "<class 'float'>\n"
          ]
        },
        {
          "output_type": "execute_result",
          "data": {
            "text/plain": [
              "float"
            ]
          },
          "metadata": {},
          "execution_count": 11
        }
      ]
    },
    {
      "cell_type": "code",
      "source": [
        "# Blooleans\n",
        "\n",
        "boolean1 = True\n",
        "print(boolean1)\n",
        "print(type(boolean1))\n",
        "\n",
        "boolean2 = (1 < 2)\n",
        "print(boolean2)\n",
        "print(type(boolean2))\n",
        "\n",
        "boolean3 = (5 < 3)\n",
        "print(boolean3)\n",
        "\n",
        "boolean4 = not boolean3\n",
        "print(boolean4)"
      ],
      "metadata": {
        "colab": {
          "base_uri": "https://localhost:8080/"
        },
        "id": "Sl7SFd6tDS4Y",
        "outputId": "e1951c96-f143-463a-c3ff-7b551f08a603"
      },
      "execution_count": 12,
      "outputs": [
        {
          "output_type": "stream",
          "name": "stdout",
          "text": [
            "True\n",
            "<class 'bool'>\n",
            "True\n",
            "<class 'bool'>\n",
            "False\n",
            "True\n"
          ]
        }
      ]
    },
    {
      "cell_type": "code",
      "source": [
        "# TRUE == 1\n",
        "# False == 0\n",
        "# if we + - / * , outcome INT\n",
        "# if we and or not , outcome STR\n",
        "\n",
        "boolean5 = True + False\n",
        "print(boolean5)\n",
        "boolean6 = True and False\n",
        "print(boolean6)"
      ],
      "metadata": {
        "colab": {
          "base_uri": "https://localhost:8080/"
        },
        "id": "YDF8JjqhDSyF",
        "outputId": "e5822fa5-a9c8-4eb7-f5ad-b81aeb9f73f9"
      },
      "execution_count": 13,
      "outputs": [
        {
          "output_type": "stream",
          "name": "stdout",
          "text": [
            "1\n",
            "False\n"
          ]
        }
      ]
    },
    {
      "cell_type": "code",
      "source": [
        "#Strings\n",
        "\n",
        "string1 = \"Hello!\"\n",
        "print(string1)\n",
        "print(type(string1))\n",
        "\n",
        "len(string1)\n",
        "\n",
        "nearly_pi_string = \"3.14\"\n",
        "type(nearly_pi_string)\n",
        "\n",
        "nearly_pi_string_converted = float(nearly_pi_string)\n",
        "type(nearly_pi_string_converted)\n",
        "\n",
        "new_string = \"abc\" + \"def\"\n",
        "print(new_string)"
      ],
      "metadata": {
        "colab": {
          "base_uri": "https://localhost:8080/"
        },
        "id": "u-f81-9hDSqe",
        "outputId": "780c15e2-9c1f-4f5e-8858-3c7117573c49"
      },
      "execution_count": 14,
      "outputs": [
        {
          "output_type": "stream",
          "name": "stdout",
          "text": [
            "Hello!\n",
            "<class 'str'>\n",
            "abcdef\n"
          ]
        }
      ]
    },
    {
      "cell_type": "markdown",
      "source": [
        "### Arithmetical calculations"
      ],
      "metadata": {
        "id": "5tMpMxN5ES_Q"
      }
    },
    {
      "cell_type": "code",
      "source": [
        "#Addition\n",
        "a = 5\n",
        "b = 3\n",
        "sum = a + b\n",
        "print(f\"SUM: {sum}\" )"
      ],
      "metadata": {
        "colab": {
          "base_uri": "https://localhost:8080/"
        },
        "id": "c6DGvwoSDSfe",
        "outputId": "8c4644a3-6ccc-40ea-dbd5-8abc4168493e"
      },
      "execution_count": 15,
      "outputs": [
        {
          "output_type": "stream",
          "name": "stdout",
          "text": [
            "SUM: 8\n"
          ]
        }
      ]
    },
    {
      "cell_type": "code",
      "source": [
        "# Substracton\n",
        "difference = a - b\n",
        "print(f\"Difference: {difference}\" )"
      ],
      "metadata": {
        "colab": {
          "base_uri": "https://localhost:8080/"
        },
        "id": "djjx9P3LEXoe",
        "outputId": "4818c59a-da2d-49fc-b9c2-860473e3f798"
      },
      "execution_count": 16,
      "outputs": [
        {
          "output_type": "stream",
          "name": "stdout",
          "text": [
            "Difference: 2\n"
          ]
        }
      ]
    },
    {
      "cell_type": "code",
      "source": [
        "# Multiplication\n",
        "multip = a * b\n",
        "print(f\"Multiplication: {multip}\" )"
      ],
      "metadata": {
        "colab": {
          "base_uri": "https://localhost:8080/"
        },
        "id": "woCqOXSIEXh9",
        "outputId": "c492973d-7181-48d1-ba58-5121fabbc761"
      },
      "execution_count": 17,
      "outputs": [
        {
          "output_type": "stream",
          "name": "stdout",
          "text": [
            "Multiplication: 15\n"
          ]
        }
      ]
    },
    {
      "cell_type": "code",
      "source": [
        "# Division\n",
        "div = a / b\n",
        "print(div)"
      ],
      "metadata": {
        "colab": {
          "base_uri": "https://localhost:8080/"
        },
        "id": "JST-9EYnEXa7",
        "outputId": "321bb299-d279-4017-ddb6-53b89c007614"
      },
      "execution_count": 18,
      "outputs": [
        {
          "output_type": "stream",
          "name": "stdout",
          "text": [
            "1.6666666666666667\n"
          ]
        }
      ]
    },
    {
      "cell_type": "code",
      "source": [
        "# Expo\n",
        "power = a ** b # 5*5*5\n",
        "print(power)"
      ],
      "metadata": {
        "colab": {
          "base_uri": "https://localhost:8080/"
        },
        "id": "s1v_X0A9EXQ1",
        "outputId": "5a2a13ce-5a3d-4825-9d1c-bb87654d9ded"
      },
      "execution_count": 19,
      "outputs": [
        {
          "output_type": "stream",
          "name": "stdout",
          "text": [
            "125\n"
          ]
        }
      ]
    },
    {
      "cell_type": "code",
      "source": [
        "# INPUT\n",
        "input1 = input(\"How old are You?: \") ## STRING VALUE!!!\n",
        "input2 = input(\"How old am I?: \")  ## STRING VALUE!!!\n",
        "sum_input = input1 + input2\n",
        "print(sum_input)\n",
        "\n",
        "input1_int = int(input1)\n",
        "input2_int = int(input2)\n",
        "\n",
        "sum_input = input1 + input2\n",
        "sum_int = input1_int  + input2_int\n",
        "\n",
        "print(sum_int)"
      ],
      "metadata": {
        "colab": {
          "base_uri": "https://localhost:8080/"
        },
        "id": "zY_SNo98EheU",
        "outputId": "ebfa5266-c74e-40ad-d979-9611562af3f9"
      },
      "execution_count": 20,
      "outputs": [
        {
          "output_type": "stream",
          "name": "stdout",
          "text": [
            "How old are You?: 23\n",
            "How old am I?: 23\n",
            "2323\n",
            "46\n"
          ]
        }
      ]
    },
    {
      "cell_type": "markdown",
      "source": [
        "### DENSITY"
      ],
      "metadata": {
        "id": "7aXh7edcElGY"
      }
    },
    {
      "cell_type": "code",
      "source": [
        "area = int(input(\"Enter area: \"))\n",
        "population = int(input(\"Enter population: \"))\n",
        "density = population / area\n",
        "\n",
        "print(f\"Average density is {density}\")"
      ],
      "metadata": {
        "colab": {
          "base_uri": "https://localhost:8080/"
        },
        "id": "mWd8fKZdEl6H",
        "outputId": "f60aabb8-1784-40f1-a10f-f6805ec46aca"
      },
      "execution_count": 22,
      "outputs": [
        {
          "output_type": "stream",
          "name": "stdout",
          "text": [
            "Enter area: 200\n",
            "Enter population: 10000\n",
            "Average density is 50.0\n"
          ]
        }
      ]
    },
    {
      "cell_type": "markdown",
      "source": [
        "### Converting pounds to kilograms"
      ],
      "metadata": {
        "id": "gv22GNhrErtU"
      }
    },
    {
      "cell_type": "code",
      "source": [
        "pounds = float(input(\"Enter the weight in pounds: \"))\n",
        "CONVERSION_FACTOR = 0.453592 #constant variable\n",
        "\n",
        "kilograms = round(pounds * CONVERSION_FACTOR, 2)\n",
        "\n",
        "print(f\"Weight in pounds was: {pounds}lb, \\nWeight in kilgorams is: {kilograms}kg\")"
      ],
      "metadata": {
        "colab": {
          "base_uri": "https://localhost:8080/"
        },
        "id": "f-pHMH3oEsKN",
        "outputId": "53b3fbb1-5604-4990-a9ba-e30853d1350c"
      },
      "execution_count": 23,
      "outputs": [
        {
          "output_type": "stream",
          "name": "stdout",
          "text": [
            "Enter the weight in pounds: 60\n",
            "Weight in pounds was: 60.0lb, \n",
            "Weight in kilgorams is: 27.22kg\n"
          ]
        }
      ]
    }
  ]
}
