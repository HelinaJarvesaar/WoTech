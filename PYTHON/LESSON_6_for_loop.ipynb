{
  "nbformat": 4,
  "nbformat_minor": 0,
  "metadata": {
    "colab": {
      "provenance": []
    },
    "kernelspec": {
      "name": "python3",
      "display_name": "Python 3"
    },
    "language_info": {
      "name": "python"
    }
  },
  "cells": [
    {
      "cell_type": "code",
      "execution_count": 15,
      "metadata": {
        "colab": {
          "base_uri": "https://localhost:8080/"
        },
        "id": "t9znNhgqMMGi",
        "outputId": "0a56617a-77c6-4f4b-804b-d6c898e18bc8"
      },
      "outputs": [
        {
          "output_type": "stream",
          "name": "stdout",
          "text": [
            "L\n",
            "O\n",
            "V\n",
            "E\n",
            " \n",
            "s\n",
            "p\n",
            "r\n",
            "i\n",
            "n\n",
            "g\n"
          ]
        }
      ],
      "source": [
        "for letter in \"LOVE spring\":  # String is iterable object\n",
        "  print(letter)"
      ]
    },
    {
      "cell_type": "code",
      "source": [
        "for letter in \"LOVE spring\":\n",
        "  print(letter, end = '') # \\n New line character"
      ],
      "metadata": {
        "colab": {
          "base_uri": "https://localhost:8080/"
        },
        "id": "lhP9YlL4MUie",
        "outputId": "97e4e1e1-8aa9-4ea1-bc5c-1237951f91e4"
      },
      "execution_count": 16,
      "outputs": [
        {
          "output_type": "stream",
          "name": "stdout",
          "text": [
            "LOVE spring"
          ]
        }
      ]
    },
    {
      "cell_type": "markdown",
      "source": [
        "# FOR LOOP LIST"
      ],
      "metadata": {
        "id": "7ltY0AkgMXeN"
      }
    },
    {
      "cell_type": "code",
      "source": [
        "cities_i_have_been_to = ['Tallin', 'Riga', 'Tartu', 'Aluksne', 'Viru', 'Ventspils']\n",
        "\n",
        "for city in cities_i_have_been_to:\n",
        "  print(f\"I have been to {city}\")"
      ],
      "metadata": {
        "colab": {
          "base_uri": "https://localhost:8080/"
        },
        "id": "GprIDUP_MWKh",
        "outputId": "c1b3405b-3a09-4142-c27f-5886c4da7b65"
      },
      "execution_count": 17,
      "outputs": [
        {
          "output_type": "stream",
          "name": "stdout",
          "text": [
            "I have been to Tallin\n",
            "I have been to Riga\n",
            "I have been to Tartu\n",
            "I have been to Aluksne\n",
            "I have been to Viru\n",
            "I have been to Ventspils\n"
          ]
        }
      ]
    },
    {
      "cell_type": "code",
      "source": [
        "cities_i_have_been_to = ['Tallin', 'Riga', 'Tartu', 'Aluksne', 'Viru', 'Ventspils']\n",
        "\n",
        "counter = 1 # initialize the counter\n",
        "\n",
        "for city in cities_i_have_been_to:\n",
        "  print(f\"{counter}. I have been to {city}\")\n",
        "  counter = counter + 1"
      ],
      "metadata": {
        "colab": {
          "base_uri": "https://localhost:8080/"
        },
        "id": "Obsq7cIyMc8O",
        "outputId": "842d0c84-cabb-44d1-cc79-15b5c73ae4da"
      },
      "execution_count": 18,
      "outputs": [
        {
          "output_type": "stream",
          "name": "stdout",
          "text": [
            "1. I have been to Tallin\n",
            "2. I have been to Riga\n",
            "3. I have been to Tartu\n",
            "4. I have been to Aluksne\n",
            "5. I have been to Viru\n",
            "6. I have been to Ventspils\n"
          ]
        }
      ]
    },
    {
      "cell_type": "code",
      "source": [
        "# Add previous city in for loop\n",
        "\n",
        "cities_i_have_been_to = ['Tallin', 'Riga', 'Tartu', 'Aluksne', 'Viru', 'Ventspils']\n",
        "counter = 1\n",
        "previous_city = None\n",
        "\n",
        "for city in cities_i_have_been_to:\n",
        "\n",
        "  print(f\"{counter}. I have been to {city}. The previos city i visited was {previous_city}.\")\n",
        "  previous_city = city\n",
        "  counter = counter + 1"
      ],
      "metadata": {
        "colab": {
          "base_uri": "https://localhost:8080/"
        },
        "id": "de8ywkz9MdnX",
        "outputId": "aa846575-c686-4635-ab4e-c7e872705aea"
      },
      "execution_count": 19,
      "outputs": [
        {
          "output_type": "stream",
          "name": "stdout",
          "text": [
            "1. I have been to Tallin. The previos city i visited was None.\n",
            "2. I have been to Riga. The previos city i visited was Tallin.\n",
            "3. I have been to Tartu. The previos city i visited was Riga.\n",
            "4. I have been to Aluksne. The previos city i visited was Tartu.\n",
            "5. I have been to Viru. The previos city i visited was Aluksne.\n",
            "6. I have been to Ventspils. The previos city i visited was Viru.\n"
          ]
        }
      ]
    },
    {
      "cell_type": "code",
      "source": [
        "cities_i_have_been_to = ['Tallin', 'Riga', 'Tartu', 'Aluksne', 'Viru', 'Ventspils']\n",
        "counter = 0 #INITIALIZE THE COUNTER\n",
        "previous_city = None\n",
        "\n",
        "for city in cities_i_have_been_to:\n",
        "  counter = counter + 1\n",
        "  if previous_city == None:\n",
        "    print(f'{counter}. I have been to {city}. ')\n",
        "  else:\n",
        "    print(f'{counter}. I have been to {city}. The previous city I visited was {previous_city}.')\n",
        "  previous_city = city"
      ],
      "metadata": {
        "colab": {
          "base_uri": "https://localhost:8080/"
        },
        "id": "gk8Wl5jJNLmB",
        "outputId": "a7307807-8e56-4a79-f7ea-ea41ab1713b8"
      },
      "execution_count": 20,
      "outputs": [
        {
          "output_type": "stream",
          "name": "stdout",
          "text": [
            "1. I have been to Tallin. \n",
            "2. I have been to Riga. The previous city I visited was Tallin.\n",
            "3. I have been to Tartu. The previous city I visited was Riga.\n",
            "4. I have been to Aluksne. The previous city I visited was Tartu.\n",
            "5. I have been to Viru. The previous city I visited was Aluksne.\n",
            "6. I have been to Ventspils. The previous city I visited was Viru.\n"
          ]
        }
      ]
    },
    {
      "cell_type": "code",
      "source": [
        "cities_i_have_been_to = ['Tallin', 'Riga', 'Tartu', 'Aluksne', 'Viru', 'Ventspils']\n",
        "which_year_I_visited = [2020, 2024, 2020, 2021, 2024, 2022]\n",
        "\n",
        "range(len(cities_i_have_been_to))"
      ],
      "metadata": {
        "colab": {
          "base_uri": "https://localhost:8080/"
        },
        "id": "7-j38vszNQqc",
        "outputId": "d77ae13a-5520-4112-f566-8af71fe3c092"
      },
      "execution_count": 21,
      "outputs": [
        {
          "output_type": "execute_result",
          "data": {
            "text/plain": [
              "range(0, 6)"
            ]
          },
          "metadata": {},
          "execution_count": 21
        }
      ]
    },
    {
      "cell_type": "code",
      "source": [
        "cities_i_have_been_to = ['Tallin', 'Riga', 'Tartu', 'Aluksne', 'Viru', 'Ventspils']\n",
        "which_year_I_visited = [2020, 2024, 2020, 2021, 2024, 2022]\n",
        "\n",
        "range(len(cities_i_have_been_to))\n",
        "list(range(len(cities_i_have_been_to)))"
      ],
      "metadata": {
        "colab": {
          "base_uri": "https://localhost:8080/"
        },
        "id": "WXGDAGYwNT8W",
        "outputId": "e64d4615-ac5c-441c-8549-aaa1063ca924"
      },
      "execution_count": 22,
      "outputs": [
        {
          "output_type": "execute_result",
          "data": {
            "text/plain": [
              "[0, 1, 2, 3, 4, 5]"
            ]
          },
          "metadata": {},
          "execution_count": 22
        }
      ]
    },
    {
      "cell_type": "code",
      "source": [
        "range(len(cities_i_have_been_to)) #elements  [0, 1, 2, 3, 4, 5]\n",
        "for i in range(len(cities_i_have_been_to)):\n",
        "  print(f\"This is the index {i}:\")\n",
        "  print(cities_i_have_been_to[i])\n",
        "  print(which_year_I_visited[i])"
      ],
      "metadata": {
        "colab": {
          "base_uri": "https://localhost:8080/"
        },
        "id": "RQx59rr8NXJo",
        "outputId": "7703ab63-913e-4e71-ffbd-6d77a8cf923c"
      },
      "execution_count": 23,
      "outputs": [
        {
          "output_type": "stream",
          "name": "stdout",
          "text": [
            "This is the index 0:\n",
            "Tallin\n",
            "2020\n",
            "This is the index 1:\n",
            "Riga\n",
            "2024\n",
            "This is the index 2:\n",
            "Tartu\n",
            "2020\n",
            "This is the index 3:\n",
            "Aluksne\n",
            "2021\n",
            "This is the index 4:\n",
            "Viru\n",
            "2024\n",
            "This is the index 5:\n",
            "Ventspils\n",
            "2022\n"
          ]
        }
      ]
    },
    {
      "cell_type": "code",
      "source": [
        "cities_i_have_been_to = ['Tallin', 'Riga', 'Tartu', 'Aluksne', 'Viru', 'Ventspils']\n",
        "which_year_I_visited = [2020, 2024, 2020, 2021, 2024, 2022]\n",
        "\n",
        "for i in range(len(cities_i_have_been_to)):\n",
        "  print(f\"I have been to {cities_i_have_been_to[i]}. I visited that city in {which_year_I_visited[i]}. \")"
      ],
      "metadata": {
        "colab": {
          "base_uri": "https://localhost:8080/"
        },
        "id": "XqpI-31LNbES",
        "outputId": "270f4612-707c-4c70-b392-a1956046484a"
      },
      "execution_count": 24,
      "outputs": [
        {
          "output_type": "stream",
          "name": "stdout",
          "text": [
            "I have been to Tallin. I visited that city in 2020. \n",
            "I have been to Riga. I visited that city in 2024. \n",
            "I have been to Tartu. I visited that city in 2020. \n",
            "I have been to Aluksne. I visited that city in 2021. \n",
            "I have been to Viru. I visited that city in 2024. \n",
            "I have been to Ventspils. I visited that city in 2022. \n"
          ]
        }
      ]
    },
    {
      "cell_type": "markdown",
      "source": [
        "## NESTED LIST"
      ],
      "metadata": {
        "id": "1rM8wgH-Ng0h"
      }
    },
    {
      "cell_type": "code",
      "source": [
        "matrix_2d = [\n",
        "    [1, 2, 3],\n",
        "    [4, 5, 6],\n",
        "    [7, 8, 9]\n",
        "]"
      ],
      "metadata": {
        "id": "ZcJsrYueNhe6"
      },
      "execution_count": 25,
      "outputs": []
    },
    {
      "cell_type": "code",
      "source": [
        "for i in matrix_2d:\n",
        "  print(i) #this is the SUB-LIST\n",
        "  for j in i:\n",
        "    print(j) # these are the elements of SUB-LIST"
      ],
      "metadata": {
        "colab": {
          "base_uri": "https://localhost:8080/"
        },
        "id": "lKOyU30zNj6r",
        "outputId": "871a78c1-4ca8-4470-86d9-ea7eec5fd91f"
      },
      "execution_count": 26,
      "outputs": [
        {
          "output_type": "stream",
          "name": "stdout",
          "text": [
            "[1, 2, 3]\n",
            "1\n",
            "2\n",
            "3\n",
            "[4, 5, 6]\n",
            "4\n",
            "5\n",
            "6\n",
            "[7, 8, 9]\n",
            "7\n",
            "8\n",
            "9\n"
          ]
        }
      ]
    },
    {
      "cell_type": "markdown",
      "source": [
        "### GRADE MAPPING EXRECISE"
      ],
      "metadata": {
        "id": "fP2pv49fNm12"
      }
    },
    {
      "cell_type": "code",
      "source": [
        "grade_mapping = [[90, 'A'], [80, 'B'], [70, 'C'], [60, 'D'], [0, 'F']]\n",
        "\n",
        "grade_mapping[0]  # outcome [90, \"A\"]\n",
        "grade_mapping[0] [1] # outcome \"A\"\n",
        "grade_mapping[3] [1] # outcome \"D\"\n",
        "\n",
        "for threshold, letter_grade in grade_mapping:\n",
        "  print(threshold)\n",
        "  print(letter_grade)"
      ],
      "metadata": {
        "colab": {
          "base_uri": "https://localhost:8080/"
        },
        "id": "WnsM1hqwNoww",
        "outputId": "c4b55a6c-aa1b-42b5-fd2f-34235f439a4b"
      },
      "execution_count": 27,
      "outputs": [
        {
          "output_type": "stream",
          "name": "stdout",
          "text": [
            "90\n",
            "A\n",
            "80\n",
            "B\n",
            "70\n",
            "C\n",
            "60\n",
            "D\n",
            "0\n",
            "F\n"
          ]
        }
      ]
    },
    {
      "cell_type": "code",
      "source": [
        "student_names = [\"Alice\", \"Bob\", \"Charlie\", \"David\", \"Eva\"]\n",
        "student_scores = [85, 72, 93, 60, 77]\n",
        "grade_mapping = [[90, 'A'], [80, 'B'], [70, 'C'], [60, 'D'], [0, 'F']]\n",
        "\n",
        "for i in range(len(student_scores)):\n",
        "  print(student_scores[i])\n",
        "  print(student_names[i])\n",
        "  score = student_scores[i] #this is the score of each student separately\n",
        "  for number_grade, letter_grade in grade_mapping:\n",
        "    if score >= number_grade:\n",
        "      print(f\"Hi, {student_names[i]}, your letter grade is {letter_grade}.\")\n",
        "      break"
      ],
      "metadata": {
        "colab": {
          "base_uri": "https://localhost:8080/"
        },
        "id": "A20qEU2rNtGO",
        "outputId": "2b691ba9-4a4b-4f5a-f6b3-75b172306d5f"
      },
      "execution_count": 28,
      "outputs": [
        {
          "output_type": "stream",
          "name": "stdout",
          "text": [
            "85\n",
            "Alice\n",
            "Hi, Alice, your letter grade is B.\n",
            "72\n",
            "Bob\n",
            "Hi, Bob, your letter grade is C.\n",
            "93\n",
            "Charlie\n",
            "Hi, Charlie, your letter grade is A.\n",
            "60\n",
            "David\n",
            "Hi, David, your letter grade is D.\n",
            "77\n",
            "Eva\n",
            "Hi, Eva, your letter grade is C.\n"
          ]
        }
      ]
    },
    {
      "cell_type": "markdown",
      "source": [
        "## ENUMARATE"
      ],
      "metadata": {
        "id": "HIGlK6gFNv9G"
      }
    },
    {
      "cell_type": "code",
      "source": [
        "student_names = [\"Alice\", \"Bob\", \"Charlie\", \"David\", \"Eva\"]\n",
        "\n",
        "for index, student in enumerate(student_names, start = 1):\n",
        "  print(f\"Student {index}: {student}\")"
      ],
      "metadata": {
        "colab": {
          "base_uri": "https://localhost:8080/"
        },
        "id": "AbFPsLJJNybe",
        "outputId": "4dae30a6-3aed-4e3d-cd4f-4ef0676a3a32"
      },
      "execution_count": 29,
      "outputs": [
        {
          "output_type": "stream",
          "name": "stdout",
          "text": [
            "Student 1: Alice\n",
            "Student 2: Bob\n",
            "Student 3: Charlie\n",
            "Student 4: David\n",
            "Student 5: Eva\n"
          ]
        }
      ]
    },
    {
      "cell_type": "markdown",
      "source": [
        "## COUNTER"
      ],
      "metadata": {
        "id": "4z5V8AA8N00M"
      }
    },
    {
      "cell_type": "code",
      "source": [
        "counter = 1 # inizialize the counter\n",
        "\n",
        "for student in student_names:\n",
        "  print(f\"Student {counter} : {student}.\")\n",
        "  counter = counter +1"
      ],
      "metadata": {
        "colab": {
          "base_uri": "https://localhost:8080/"
        },
        "id": "HecDsHVFN2RQ",
        "outputId": "65316c13-08d3-434a-9bd7-7e6f76383c07"
      },
      "execution_count": 30,
      "outputs": [
        {
          "output_type": "stream",
          "name": "stdout",
          "text": [
            "Student 1 : Alice.\n",
            "Student 2 : Bob.\n",
            "Student 3 : Charlie.\n",
            "Student 4 : David.\n",
            "Student 5 : Eva.\n"
          ]
        }
      ]
    },
    {
      "cell_type": "markdown",
      "source": [
        "## FOR RANGE"
      ],
      "metadata": {
        "id": "W5rOfrVtN9WK"
      }
    },
    {
      "cell_type": "code",
      "source": [
        "for i in range(len(student_names)):\n",
        "  print(f\"Student {i+1}: {student_names[i]}\")"
      ],
      "metadata": {
        "colab": {
          "base_uri": "https://localhost:8080/"
        },
        "id": "AshBu6EeN-dG",
        "outputId": "bbc38a6c-88ce-4ce8-8713-9651c47c4d9f"
      },
      "execution_count": 31,
      "outputs": [
        {
          "output_type": "stream",
          "name": "stdout",
          "text": [
            "Student 1: Alice\n",
            "Student 2: Bob\n",
            "Student 3: Charlie\n",
            "Student 4: David\n",
            "Student 5: Eva\n"
          ]
        }
      ]
    },
    {
      "cell_type": "markdown",
      "source": [
        "# TEAMWORK\n",
        "\n",
        "Write a program with for loop and list where user needs to input a STRING value, and program needs to check if the value is in the list.\n",
        "\n",
        "Use string methods to standardize the user input.\n"
      ],
      "metadata": {
        "id": "No4Qg5CgOVn0"
      }
    },
    {
      "cell_type": "code",
      "source": [
        "list_of_colours = [\"Yellow\", \"Green\", \"Blue\", \"Red\"]\n",
        "\n",
        "print(\"The list of colours: \", end = \" \")\n",
        "print(\", \".join(list_of_colours))\n",
        "\n",
        "while True:\n",
        "  user_colour = input(\"What colour do You want to check?: \").capitalize()\n",
        "  if user_colour.isalpha():\n",
        "    for i in range(len(list_of_colours)):\n",
        "      if user_colour == list_of_colours[i]:\n",
        "        print(f\"{user_colour} is in the list\")\n",
        "        break\n",
        "    else:\n",
        "      print(f\"{user_colour} is not in the list. Try again.\")\n",
        "  else:\n",
        "    print(\"Wrong input. Try again.\")"
      ],
      "metadata": {
        "colab": {
          "base_uri": "https://localhost:8080/"
        },
        "id": "rTKK82XMOTLw",
        "outputId": "2e2ccd7a-4a73-4a9a-ec1c-fe4228f87cbe"
      },
      "execution_count": null,
      "outputs": [
        {
          "output_type": "stream",
          "name": "stdout",
          "text": [
            "The list of colours:  Yellow, Green, Blue, Red\n",
            "What colour do You want to check?: black\n",
            "Black is not in the list. Try again.\n",
            "What colour do You want to check?: blue\n",
            "Blue is in the list\n"
          ]
        }
      ]
    }
  ]
}