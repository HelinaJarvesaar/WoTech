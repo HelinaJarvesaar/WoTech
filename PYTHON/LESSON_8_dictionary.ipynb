{
  "nbformat": 4,
  "nbformat_minor": 0,
  "metadata": {
    "colab": {
      "provenance": []
    },
    "kernelspec": {
      "name": "python3",
      "display_name": "Python 3"
    },
    "language_info": {
      "name": "python"
    }
  },
  "cells": [
    {
      "cell_type": "code",
      "execution_count": 37,
      "metadata": {
        "id": "JfUpb6qlS3th"
      },
      "outputs": [],
      "source": [
        "# Initilising a dictionary\n",
        "\n",
        "dictionary = {} #curly braces method\n",
        "another_dictionary = dict() # dict method"
      ]
    },
    {
      "cell_type": "code",
      "source": [
        "dictionary == another_dictionary #are these equal"
      ],
      "metadata": {
        "colab": {
          "base_uri": "https://localhost:8080/"
        },
        "id": "CudHFMjUTCyu",
        "outputId": "e1c25577-a9b5-421a-8a30-3661eec9f7e5"
      },
      "execution_count": 38,
      "outputs": [
        {
          "output_type": "execute_result",
          "data": {
            "text/plain": [
              "True"
            ]
          },
          "metadata": {},
          "execution_count": 38
        }
      ]
    },
    {
      "cell_type": "code",
      "source": [
        "dictionary = {}\n",
        "\n",
        "dictionary ['key1'] = 'value1' # add an element to the dictionary, could aslo be list\n",
        "dictionary ['key2'] = [1,2,3] # value could also be a list\n",
        "dictionary"
      ],
      "metadata": {
        "colab": {
          "base_uri": "https://localhost:8080/"
        },
        "id": "bQ77sku7TFKh",
        "outputId": "bada5075-c3e2-43c6-a9a3-fc27c02087cd"
      },
      "execution_count": 39,
      "outputs": [
        {
          "output_type": "execute_result",
          "data": {
            "text/plain": [
              "{'key1': 'value1', 'key2': [1, 2, 3]}"
            ]
          },
          "metadata": {},
          "execution_count": 39
        }
      ]
    },
    {
      "cell_type": "code",
      "source": [
        "dictionary['key2'] # use the key to get to the element"
      ],
      "metadata": {
        "colab": {
          "base_uri": "https://localhost:8080/"
        },
        "id": "WP89JLkkTKs7",
        "outputId": "0327d43c-ff73-44cf-f543-c98cd7e2c374"
      },
      "execution_count": 40,
      "outputs": [
        {
          "output_type": "execute_result",
          "data": {
            "text/plain": [
              "[1, 2, 3]"
            ]
          },
          "metadata": {},
          "execution_count": 40
        }
      ]
    },
    {
      "cell_type": "code",
      "source": [
        "# storing a list in a dictionary\n",
        "\n",
        "dictionary['datorium_list'] = ['python', 'java','c#']\n",
        "dictionary"
      ],
      "metadata": {
        "colab": {
          "base_uri": "https://localhost:8080/"
        },
        "id": "aWoLhPStTMxU",
        "outputId": "d3674854-0d0f-4253-e3cb-dbee84bd27b5"
      },
      "execution_count": 41,
      "outputs": [
        {
          "output_type": "execute_result",
          "data": {
            "text/plain": [
              "{'key1': 'value1',\n",
              " 'key2': [1, 2, 3],\n",
              " 'datorium_list': ['python', 'java', 'c#']}"
            ]
          },
          "metadata": {},
          "execution_count": 41
        }
      ]
    },
    {
      "cell_type": "code",
      "source": [
        "dictionary['datorium_list'] = [1,2,3]\n",
        "# we can not have two values with the same key!\n",
        "dictionary"
      ],
      "metadata": {
        "colab": {
          "base_uri": "https://localhost:8080/"
        },
        "id": "DVr6d8qbTRhN",
        "outputId": "bf07a56b-d53f-46e9-9d2d-b1ab2adeac23"
      },
      "execution_count": 42,
      "outputs": [
        {
          "output_type": "execute_result",
          "data": {
            "text/plain": [
              "{'key1': 'value1', 'key2': [1, 2, 3], 'datorium_list': [1, 2, 3]}"
            ]
          },
          "metadata": {},
          "execution_count": 42
        }
      ]
    },
    {
      "cell_type": "markdown",
      "source": [
        "# Dictionary methods"
      ],
      "metadata": {
        "id": "1fea1hg9Tby3"
      }
    },
    {
      "cell_type": "code",
      "source": [
        "my_friends = {'Alice': 30,  # key values\n",
        "              'John': 40,\n",
        "              'Linda': 28}\n",
        "my_friends['Linda']"
      ],
      "metadata": {
        "colab": {
          "base_uri": "https://localhost:8080/"
        },
        "id": "9Ssnv0brTcqC",
        "outputId": "92f39e92-11b2-422f-8842-f7038599dc31"
      },
      "execution_count": 43,
      "outputs": [
        {
          "output_type": "execute_result",
          "data": {
            "text/plain": [
              "28"
            ]
          },
          "metadata": {},
          "execution_count": 43
        }
      ]
    },
    {
      "cell_type": "code",
      "source": [
        "# update(other_dict) - adds new dict to existing one\n",
        "\n",
        "incoming_friends ={'Atra':28}\n",
        "my_friends.update(incoming_friends)\n",
        "print(my_friends)"
      ],
      "metadata": {
        "colab": {
          "base_uri": "https://localhost:8080/"
        },
        "id": "QczCQYQ8T8JL",
        "outputId": "4590b9ae-a2ed-4698-e9c5-8f0cc7e63a76"
      },
      "execution_count": 44,
      "outputs": [
        {
          "output_type": "stream",
          "name": "stdout",
          "text": [
            "{'Alice': 30, 'John': 40, 'Linda': 28, 'Atra': 28}\n"
          ]
        }
      ]
    },
    {
      "cell_type": "code",
      "source": [
        "# pop(key, default=None) - removing an elemnt\n",
        "\n",
        "my_friends.pop('Alice')\n",
        "print(my_friends)"
      ],
      "metadata": {
        "colab": {
          "base_uri": "https://localhost:8080/"
        },
        "id": "MpfhKDabT-p_",
        "outputId": "9dc19b87-c4dc-4981-dc09-81f3d159b768"
      },
      "execution_count": 45,
      "outputs": [
        {
          "output_type": "stream",
          "name": "stdout",
          "text": [
            "{'John': 40, 'Linda': 28, 'Atra': 28}\n"
          ]
        }
      ]
    },
    {
      "cell_type": "code",
      "source": [
        "# get(key, default=None)\n",
        "\n",
        "my_friends.get('Alice', 'This persone does not exist in the dict')"
      ],
      "metadata": {
        "colab": {
          "base_uri": "https://localhost:8080/",
          "height": 35
        },
        "id": "drz7MB2YUArj",
        "outputId": "e88dd835-ffaa-4f2b-fd21-8474f43205c0"
      },
      "execution_count": 46,
      "outputs": [
        {
          "output_type": "execute_result",
          "data": {
            "text/plain": [
              "'This persone does not exist in the dict'"
            ],
            "application/vnd.google.colaboratory.intrinsic+json": {
              "type": "string"
            }
          },
          "metadata": {},
          "execution_count": 46
        }
      ]
    },
    {
      "cell_type": "markdown",
      "source": [
        "# items(), keys(), values()"
      ],
      "metadata": {
        "id": "MS9ZSL0pUJ2t"
      }
    },
    {
      "cell_type": "code",
      "source": [
        "# item() - returns all obj (tuples list )from the dict\n",
        "my_friends.items()"
      ],
      "metadata": {
        "colab": {
          "base_uri": "https://localhost:8080/"
        },
        "id": "AcmsHqkZUFID",
        "outputId": "db94c450-aa72-450c-a22b-0cdd4fbc7411"
      },
      "execution_count": 47,
      "outputs": [
        {
          "output_type": "execute_result",
          "data": {
            "text/plain": [
              "dict_items([('John', 40), ('Linda', 28), ('Atra', 28)])"
            ]
          },
          "metadata": {},
          "execution_count": 47
        }
      ]
    },
    {
      "cell_type": "code",
      "source": [
        "# keys() - return onlu keys\n",
        "my_friends.keys()"
      ],
      "metadata": {
        "colab": {
          "base_uri": "https://localhost:8080/"
        },
        "id": "xu5mM57CUMrO",
        "outputId": "c53316fa-5740-4b0b-b71e-06f7b8e18163"
      },
      "execution_count": 48,
      "outputs": [
        {
          "output_type": "execute_result",
          "data": {
            "text/plain": [
              "dict_keys(['John', 'Linda', 'Atra'])"
            ]
          },
          "metadata": {},
          "execution_count": 48
        }
      ]
    },
    {
      "cell_type": "code",
      "source": [
        "# values() - return olny values\n",
        "my_friends.values()"
      ],
      "metadata": {
        "colab": {
          "base_uri": "https://localhost:8080/"
        },
        "id": "KJIg_UnUURc-",
        "outputId": "1744e0d0-c6df-4a62-8eab-aeb87ebcfb9d"
      },
      "execution_count": 49,
      "outputs": [
        {
          "output_type": "execute_result",
          "data": {
            "text/plain": [
              "dict_values([40, 28, 28])"
            ]
          },
          "metadata": {},
          "execution_count": 49
        }
      ]
    },
    {
      "cell_type": "markdown",
      "source": [
        "###Summary\n",
        "\n",
        "Accessing Elements: keys(), values(), items()\n",
        "\n",
        "Retrieving Values: get()\n",
        "\n",
        "Modifying Dictionary: update(), setdefault()\n",
        "\n",
        "Removing Elements: pop(), popitem(), clear()\n",
        "\n",
        "Copying Dictionary: copy()"
      ],
      "metadata": {
        "id": "evntATJeUTfd"
      }
    },
    {
      "cell_type": "markdown",
      "source": [
        "### Contact book"
      ],
      "metadata": {
        "id": "92XgEB3bUY55"
      }
    },
    {
      "cell_type": "code",
      "source": [
        "contact_book = {} # initiate emty dict\n",
        "\n",
        "name = input (\"Enter name: \") #key\n",
        "number = input (\"Enter number: \") #value"
      ],
      "metadata": {
        "colab": {
          "base_uri": "https://localhost:8080/"
        },
        "id": "RnEHXa1-UUWb",
        "outputId": "7c3be250-ba8a-49fe-8e40-754465e5ca30"
      },
      "execution_count": 50,
      "outputs": [
        {
          "name": "stdout",
          "output_type": "stream",
          "text": [
            "Enter name: Helina\n",
            "Enter number: 234\n"
          ]
        }
      ]
    },
    {
      "cell_type": "code",
      "source": [
        "#variant 1 kuidas dicti lisada:\n",
        "\n",
        "contact_book[name] = number # adding element to the dict\n",
        "print(contact_book)\n",
        "print(f\"Contact {name} added successfully!\")"
      ],
      "metadata": {
        "colab": {
          "base_uri": "https://localhost:8080/"
        },
        "id": "PxXgyR3wUbax",
        "outputId": "cd21ce82-ce53-4f25-e10e-f357b1a8d7c3"
      },
      "execution_count": 51,
      "outputs": [
        {
          "output_type": "stream",
          "name": "stdout",
          "text": [
            "{'Helina': '234'}\n",
            "Contact Helina added successfully!\n"
          ]
        }
      ]
    },
    {
      "cell_type": "code",
      "source": [
        "# variant 2 kuidas dicti lisada:\n",
        "new_dict= {name:number}\n",
        "contact_book.update(new_dict)\n",
        "print(contact_book)"
      ],
      "metadata": {
        "colab": {
          "base_uri": "https://localhost:8080/"
        },
        "id": "mKSGqJTCUdf_",
        "outputId": "123f8d44-1cef-46bf-f7cc-18733606b1b2"
      },
      "execution_count": 52,
      "outputs": [
        {
          "output_type": "stream",
          "name": "stdout",
          "text": [
            "{'Helina': '234'}\n"
          ]
        }
      ]
    },
    {
      "cell_type": "markdown",
      "source": [
        "### Adding this code to run until user writes STOP"
      ],
      "metadata": {
        "id": "wUwg-KuHUgsT"
      }
    },
    {
      "cell_type": "code",
      "source": [
        "contact_book = {}\n",
        "\n",
        "while True:\n",
        "  print(\"If you want to stop, write STOP.\")\n",
        "  name = input (\"Enter name: \")\n",
        "  if name == \"STOP\":\n",
        "    print(\"No more entries to conctact book.\")\n",
        "    break\n",
        "  number = input (\"Enter phone number: \")\n",
        "  contact_book[name] = number\n",
        "  print(f\"Contact {name} added successfully!\")\n",
        "\n",
        "print(contact_book)"
      ],
      "metadata": {
        "colab": {
          "base_uri": "https://localhost:8080/",
          "height": 503
        },
        "id": "cPkBllYKUhQK",
        "outputId": "ac25ca8c-25c4-4d6d-b7e3-13153d4348d3"
      },
      "execution_count": 53,
      "outputs": [
        {
          "output_type": "stream",
          "name": "stdout",
          "text": [
            "If you want to stop, write STOP.\n",
            "Enter name: Helina\n",
            "Enter phone number: 234\n",
            "Contact Helina added successfully!\n",
            "If you want to stop, write STOP.\n",
            "Enter name: stop\n",
            "Enter phone number: STOP\n",
            "Contact stop added successfully!\n",
            "If you want to stop, write STOP.\n"
          ]
        },
        {
          "output_type": "error",
          "ename": "KeyboardInterrupt",
          "evalue": "Interrupted by user",
          "traceback": [
            "\u001b[0;31m---------------------------------------------------------------------------\u001b[0m",
            "\u001b[0;31mKeyboardInterrupt\u001b[0m                         Traceback (most recent call last)",
            "\u001b[0;32m<ipython-input-53-c4207bf5b613>\u001b[0m in \u001b[0;36m<cell line: 3>\u001b[0;34m()\u001b[0m\n\u001b[1;32m      3\u001b[0m \u001b[0;32mwhile\u001b[0m \u001b[0;32mTrue\u001b[0m\u001b[0;34m:\u001b[0m\u001b[0;34m\u001b[0m\u001b[0;34m\u001b[0m\u001b[0m\n\u001b[1;32m      4\u001b[0m   \u001b[0mprint\u001b[0m\u001b[0;34m(\u001b[0m\u001b[0;34m\"If you want to stop, write STOP.\"\u001b[0m\u001b[0;34m)\u001b[0m\u001b[0;34m\u001b[0m\u001b[0;34m\u001b[0m\u001b[0m\n\u001b[0;32m----> 5\u001b[0;31m   \u001b[0mname\u001b[0m \u001b[0;34m=\u001b[0m \u001b[0minput\u001b[0m \u001b[0;34m(\u001b[0m\u001b[0;34m\"Enter name: \"\u001b[0m\u001b[0;34m)\u001b[0m\u001b[0;34m\u001b[0m\u001b[0;34m\u001b[0m\u001b[0m\n\u001b[0m\u001b[1;32m      6\u001b[0m   \u001b[0;32mif\u001b[0m \u001b[0mname\u001b[0m \u001b[0;34m==\u001b[0m \u001b[0;34m\"STOP\"\u001b[0m\u001b[0;34m:\u001b[0m\u001b[0;34m\u001b[0m\u001b[0;34m\u001b[0m\u001b[0m\n\u001b[1;32m      7\u001b[0m     \u001b[0mprint\u001b[0m\u001b[0;34m(\u001b[0m\u001b[0;34m\"No more entries to conctact book.\"\u001b[0m\u001b[0;34m)\u001b[0m\u001b[0;34m\u001b[0m\u001b[0;34m\u001b[0m\u001b[0m\n",
            "\u001b[0;32m/usr/local/lib/python3.10/dist-packages/ipykernel/kernelbase.py\u001b[0m in \u001b[0;36mraw_input\u001b[0;34m(self, prompt)\u001b[0m\n\u001b[1;32m    849\u001b[0m                 \u001b[0;34m\"raw_input was called, but this frontend does not support input requests.\"\u001b[0m\u001b[0;34m\u001b[0m\u001b[0;34m\u001b[0m\u001b[0m\n\u001b[1;32m    850\u001b[0m             )\n\u001b[0;32m--> 851\u001b[0;31m         return self._input_request(str(prompt),\n\u001b[0m\u001b[1;32m    852\u001b[0m             \u001b[0mself\u001b[0m\u001b[0;34m.\u001b[0m\u001b[0m_parent_ident\u001b[0m\u001b[0;34m,\u001b[0m\u001b[0;34m\u001b[0m\u001b[0;34m\u001b[0m\u001b[0m\n\u001b[1;32m    853\u001b[0m             \u001b[0mself\u001b[0m\u001b[0;34m.\u001b[0m\u001b[0m_parent_header\u001b[0m\u001b[0;34m,\u001b[0m\u001b[0;34m\u001b[0m\u001b[0;34m\u001b[0m\u001b[0m\n",
            "\u001b[0;32m/usr/local/lib/python3.10/dist-packages/ipykernel/kernelbase.py\u001b[0m in \u001b[0;36m_input_request\u001b[0;34m(self, prompt, ident, parent, password)\u001b[0m\n\u001b[1;32m    893\u001b[0m             \u001b[0;32mexcept\u001b[0m \u001b[0mKeyboardInterrupt\u001b[0m\u001b[0;34m:\u001b[0m\u001b[0;34m\u001b[0m\u001b[0;34m\u001b[0m\u001b[0m\n\u001b[1;32m    894\u001b[0m                 \u001b[0;31m# re-raise KeyboardInterrupt, to truncate traceback\u001b[0m\u001b[0;34m\u001b[0m\u001b[0;34m\u001b[0m\u001b[0m\n\u001b[0;32m--> 895\u001b[0;31m                 \u001b[0;32mraise\u001b[0m \u001b[0mKeyboardInterrupt\u001b[0m\u001b[0;34m(\u001b[0m\u001b[0;34m\"Interrupted by user\"\u001b[0m\u001b[0;34m)\u001b[0m \u001b[0;32mfrom\u001b[0m \u001b[0;32mNone\u001b[0m\u001b[0;34m\u001b[0m\u001b[0;34m\u001b[0m\u001b[0m\n\u001b[0m\u001b[1;32m    896\u001b[0m             \u001b[0;32mexcept\u001b[0m \u001b[0mException\u001b[0m \u001b[0;32mas\u001b[0m \u001b[0me\u001b[0m\u001b[0;34m:\u001b[0m\u001b[0;34m\u001b[0m\u001b[0;34m\u001b[0m\u001b[0m\n\u001b[1;32m    897\u001b[0m                 \u001b[0mself\u001b[0m\u001b[0;34m.\u001b[0m\u001b[0mlog\u001b[0m\u001b[0;34m.\u001b[0m\u001b[0mwarning\u001b[0m\u001b[0;34m(\u001b[0m\u001b[0;34m\"Invalid Message:\"\u001b[0m\u001b[0;34m,\u001b[0m \u001b[0mexc_info\u001b[0m\u001b[0;34m=\u001b[0m\u001b[0;32mTrue\u001b[0m\u001b[0;34m)\u001b[0m\u001b[0;34m\u001b[0m\u001b[0;34m\u001b[0m\u001b[0m\n",
            "\u001b[0;31mKeyboardInterrupt\u001b[0m: Interrupted by user"
          ]
        }
      ]
    },
    {
      "cell_type": "markdown",
      "source": [
        "### Store inventory management\n",
        "\n",
        "-initiate emty dict\n",
        "\n",
        "-add item (key), quantity (value) in dict\n",
        "\n",
        "-inform user that element is added"
      ],
      "metadata": {
        "id": "-8w2WGPbUnAC"
      }
    },
    {
      "cell_type": "code",
      "source": [
        "inventory = {}\n",
        "\n",
        "while True:\n",
        "  exit = input('If you want to exit write STOP, else nothing')\n",
        "  if exit == 'STOP':\n",
        "    print(\"You've stopped entries for today. See you next time!\")\n",
        "    break\n",
        "  store_item = input(\"Enter the item name: \")\n",
        "  item_quantity = input(\"Enter the quantity for the item: \")\n",
        "  inventory[store_item] = item_quantity\n",
        "  print(f\"Item {store_item} quantity updated!\")\n",
        "\n",
        "while True:\n",
        "    item = input(\"Please enter inventory item, to exit write STOP : \")\n",
        "    if item == \"STOP\":\n",
        "        print(\"That's all!\")\n",
        "        break\n",
        "    amount = input(\"Please enter how many we have of this item: \")\n",
        "    inventory[item] = amount  # adding element to the dictionary\n",
        "    print(f'Item {item} has been added successfully!')\n",
        "\n",
        "print(f'Your inventory is: {inventory}')"
      ],
      "metadata": {
        "colab": {
          "base_uri": "https://localhost:8080/",
          "height": 520
        },
        "id": "tTVfjiYjUljQ",
        "outputId": "0e669198-ca76-403d-d8ba-885c02413632"
      },
      "execution_count": 54,
      "outputs": [
        {
          "output_type": "stream",
          "name": "stdout",
          "text": [
            "If you want to exit write STOP, else nothing\n",
            "Enter the item name: apple\n",
            "Enter the quantity for the item: 23\n",
            "Item apple quantity updated!\n",
            "If you want to exit write STOP, else nothing\n",
            "Enter the item name: apple\n",
            "Enter the quantity for the item: 24\n",
            "Item apple quantity updated!\n",
            "If you want to exit write STOP, else nothingSTOP\n",
            "You've stopped entries for today. See you next time!\n"
          ]
        },
        {
          "output_type": "error",
          "ename": "KeyboardInterrupt",
          "evalue": "Interrupted by user",
          "traceback": [
            "\u001b[0;31m---------------------------------------------------------------------------\u001b[0m",
            "\u001b[0;31mKeyboardInterrupt\u001b[0m                         Traceback (most recent call last)",
            "\u001b[0;32m<ipython-input-54-7876ad2f0970>\u001b[0m in \u001b[0;36m<cell line: 13>\u001b[0;34m()\u001b[0m\n\u001b[1;32m     12\u001b[0m \u001b[0;34m\u001b[0m\u001b[0m\n\u001b[1;32m     13\u001b[0m \u001b[0;32mwhile\u001b[0m \u001b[0;32mTrue\u001b[0m\u001b[0;34m:\u001b[0m\u001b[0;34m\u001b[0m\u001b[0;34m\u001b[0m\u001b[0m\n\u001b[0;32m---> 14\u001b[0;31m     \u001b[0mitem\u001b[0m \u001b[0;34m=\u001b[0m \u001b[0minput\u001b[0m\u001b[0;34m(\u001b[0m\u001b[0;34m\"Please enter inventory item, to exit write STOP : \"\u001b[0m\u001b[0;34m)\u001b[0m\u001b[0;34m\u001b[0m\u001b[0;34m\u001b[0m\u001b[0m\n\u001b[0m\u001b[1;32m     15\u001b[0m     \u001b[0;32mif\u001b[0m \u001b[0mitem\u001b[0m \u001b[0;34m==\u001b[0m \u001b[0;34m\"STOP\"\u001b[0m\u001b[0;34m:\u001b[0m\u001b[0;34m\u001b[0m\u001b[0;34m\u001b[0m\u001b[0m\n\u001b[1;32m     16\u001b[0m         \u001b[0mprint\u001b[0m\u001b[0;34m(\u001b[0m\u001b[0;34m\"That's all!\"\u001b[0m\u001b[0;34m)\u001b[0m\u001b[0;34m\u001b[0m\u001b[0;34m\u001b[0m\u001b[0m\n",
            "\u001b[0;32m/usr/local/lib/python3.10/dist-packages/ipykernel/kernelbase.py\u001b[0m in \u001b[0;36mraw_input\u001b[0;34m(self, prompt)\u001b[0m\n\u001b[1;32m    849\u001b[0m                 \u001b[0;34m\"raw_input was called, but this frontend does not support input requests.\"\u001b[0m\u001b[0;34m\u001b[0m\u001b[0;34m\u001b[0m\u001b[0m\n\u001b[1;32m    850\u001b[0m             )\n\u001b[0;32m--> 851\u001b[0;31m         return self._input_request(str(prompt),\n\u001b[0m\u001b[1;32m    852\u001b[0m             \u001b[0mself\u001b[0m\u001b[0;34m.\u001b[0m\u001b[0m_parent_ident\u001b[0m\u001b[0;34m,\u001b[0m\u001b[0;34m\u001b[0m\u001b[0;34m\u001b[0m\u001b[0m\n\u001b[1;32m    853\u001b[0m             \u001b[0mself\u001b[0m\u001b[0;34m.\u001b[0m\u001b[0m_parent_header\u001b[0m\u001b[0;34m,\u001b[0m\u001b[0;34m\u001b[0m\u001b[0;34m\u001b[0m\u001b[0m\n",
            "\u001b[0;32m/usr/local/lib/python3.10/dist-packages/ipykernel/kernelbase.py\u001b[0m in \u001b[0;36m_input_request\u001b[0;34m(self, prompt, ident, parent, password)\u001b[0m\n\u001b[1;32m    893\u001b[0m             \u001b[0;32mexcept\u001b[0m \u001b[0mKeyboardInterrupt\u001b[0m\u001b[0;34m:\u001b[0m\u001b[0;34m\u001b[0m\u001b[0;34m\u001b[0m\u001b[0m\n\u001b[1;32m    894\u001b[0m                 \u001b[0;31m# re-raise KeyboardInterrupt, to truncate traceback\u001b[0m\u001b[0;34m\u001b[0m\u001b[0;34m\u001b[0m\u001b[0m\n\u001b[0;32m--> 895\u001b[0;31m                 \u001b[0;32mraise\u001b[0m \u001b[0mKeyboardInterrupt\u001b[0m\u001b[0;34m(\u001b[0m\u001b[0;34m\"Interrupted by user\"\u001b[0m\u001b[0;34m)\u001b[0m \u001b[0;32mfrom\u001b[0m \u001b[0;32mNone\u001b[0m\u001b[0;34m\u001b[0m\u001b[0;34m\u001b[0m\u001b[0m\n\u001b[0m\u001b[1;32m    896\u001b[0m             \u001b[0;32mexcept\u001b[0m \u001b[0mException\u001b[0m \u001b[0;32mas\u001b[0m \u001b[0me\u001b[0m\u001b[0;34m:\u001b[0m\u001b[0;34m\u001b[0m\u001b[0;34m\u001b[0m\u001b[0m\n\u001b[1;32m    897\u001b[0m                 \u001b[0mself\u001b[0m\u001b[0;34m.\u001b[0m\u001b[0mlog\u001b[0m\u001b[0;34m.\u001b[0m\u001b[0mwarning\u001b[0m\u001b[0;34m(\u001b[0m\u001b[0;34m\"Invalid Message:\"\u001b[0m\u001b[0;34m,\u001b[0m \u001b[0mexc_info\u001b[0m\u001b[0;34m=\u001b[0m\u001b[0;32mTrue\u001b[0m\u001b[0;34m)\u001b[0m\u001b[0;34m\u001b[0m\u001b[0;34m\u001b[0m\u001b[0m\n",
            "\u001b[0;31mKeyboardInterrupt\u001b[0m: Interrupted by user"
          ]
        }
      ]
    },
    {
      "cell_type": "markdown",
      "source": [
        "### FUNCTIONS"
      ],
      "metadata": {
        "id": "NTIT_xS8U5ZT"
      }
    },
    {
      "cell_type": "code",
      "source": [
        "# function of adding item to a dict\n",
        "# function does not do anything, it needs to be called\n",
        "\n",
        "inventory = {}\n",
        "\n",
        "def add_item(inventory):\n",
        "  store_item = input(\"Enter the item name: \")\n",
        "  item_quantity = input(\"Enter the quantity for the item: \")\n",
        "  inventory[store_item] = item_quantity\n",
        "  print(f\"Item {store_item} quantity updated!\")\n",
        "\n",
        "while True:\n",
        "  exit = input('If you want to exit write STOP, else nothing')\n",
        "  if exit == 'STOP':\n",
        "    print(\"You've stopped entries for today. See you next time!\")\n",
        "    break\n",
        "  add_item(inventory)\n",
        "\n",
        "print(f\"Invetory is: {inventory}\")"
      ],
      "metadata": {
        "colab": {
          "base_uri": "https://localhost:8080/"
        },
        "id": "cSQ0GLbLU6Im",
        "outputId": "5bbe4a65-e8b5-454b-b14d-e83c2119d924"
      },
      "execution_count": 55,
      "outputs": [
        {
          "output_type": "stream",
          "name": "stdout",
          "text": [
            "If you want to exit write STOP, else nothing\n",
            "Enter the item name: apple\n",
            "Enter the quantity for the item: 23\n",
            "Item apple quantity updated!\n",
            "If you want to exit write STOP, else nothing\n",
            "Enter the item name: apple\n",
            "Enter the quantity for the item: 24\n",
            "Item apple quantity updated!\n",
            "If you want to exit write STOP, else nothingSTOP\n",
            "You've stopped entries for today. See you next time!\n",
            "Invetory is: {'apple': '24'}\n"
          ]
        }
      ]
    },
    {
      "cell_type": "markdown",
      "source": [
        "# HOMEWORK:\n",
        "\n",
        "Write a code example how to iterate through a dictionary with a for-loop"
      ],
      "metadata": {
        "id": "j8FThdZ_VGGH"
      }
    },
    {
      "cell_type": "code",
      "source": [
        "my_friends = {'Alice': 30,\n",
        "              'John': 40,\n",
        "              'Linda': 28}\n",
        "\n",
        "for i,j in my_friends.items():\n",
        "  print(f\"{i} is {j} years old.\")"
      ],
      "metadata": {
        "colab": {
          "base_uri": "https://localhost:8080/"
        },
        "id": "ar8877M8VHsp",
        "outputId": "c467eab2-6237-4abc-8a0c-8c952dbdb631"
      },
      "execution_count": 56,
      "outputs": [
        {
          "output_type": "stream",
          "name": "stdout",
          "text": [
            "Alice is 30 years old.\n",
            "John is 40 years old.\n",
            "Linda is 28 years old.\n"
          ]
        }
      ]
    },
    {
      "cell_type": "markdown",
      "source": [
        "### Test question:"
      ],
      "metadata": {
        "id": "lMRzx3QtVJry"
      }
    },
    {
      "cell_type": "code",
      "source": [
        "numbers = [1, 2, 3, 4, 5]\n",
        "cumulative_sum = 0\n",
        "\n",
        "# Iterate through the list of numbers\n",
        "for num in numbers:\n",
        "\n",
        "# Add the current number to the cumulative sum\n",
        "  cumulative_sum += num\n",
        "\n",
        "# Print the cumulative sum after each iteration\n",
        "  print (\"Cumulative sum so far:\", cumulative_sum)"
      ],
      "metadata": {
        "colab": {
          "base_uri": "https://localhost:8080/"
        },
        "id": "gB4naxWMVMgN",
        "outputId": "fdc972ae-5b9d-42f2-ac37-a67297f5ae60"
      },
      "execution_count": 57,
      "outputs": [
        {
          "output_type": "stream",
          "name": "stdout",
          "text": [
            "Cumulative sum so far: 1\n",
            "Cumulative sum so far: 3\n",
            "Cumulative sum so far: 6\n",
            "Cumulative sum so far: 10\n",
            "Cumulative sum so far: 15\n"
          ]
        }
      ]
    }
  ]
}