{
  "nbformat": 4,
  "nbformat_minor": 0,
  "metadata": {
    "colab": {
      "provenance": []
    },
    "kernelspec": {
      "name": "python3",
      "display_name": "Python 3"
    },
    "language_info": {
      "name": "python"
    }
  },
  "cells": [
    {
      "cell_type": "markdown",
      "source": [
        "RegEx - Regular Expressionas\n",
        "\n",
        "https://docs.python.org/3/library/re.html\n",
        "\n",
        "Validating inputs (exp.email, phone)"
      ],
      "metadata": {
        "id": "2XmJcRETgPUj"
      }
    },
    {
      "cell_type": "code",
      "execution_count": 1,
      "metadata": {
        "id": "AETLmNxwf9mk"
      },
      "outputs": [],
      "source": [
        "import re"
      ]
    },
    {
      "cell_type": "code",
      "source": [
        "text = \"\"\"\n",
        "Alice: 555-123-4567\n",
        "Bob: 333-987-6543\n",
        "Charlie: 777-555-88\n",
        "\"\"\"\n",
        "# \"\"\"  -triple means you can add multiple line string"
      ],
      "metadata": {
        "id": "q-jcrou1k6Nj"
      },
      "execution_count": 5,
      "outputs": []
    },
    {
      "cell_type": "code",
      "source": [
        "text"
      ],
      "metadata": {
        "colab": {
          "base_uri": "https://localhost:8080/",
          "height": 35
        },
        "id": "gAmzepyIlHXi",
        "outputId": "ab9bd799-857c-4f5a-861a-d44d8214a0b6"
      },
      "execution_count": 6,
      "outputs": [
        {
          "output_type": "execute_result",
          "data": {
            "text/plain": [
              "'\\nAlice: 555-123-4567\\nBob: 333-987-6543\\nCharlie: 777-555-88\\n'"
            ],
            "application/vnd.google.colaboratory.intrinsic+json": {
              "type": "string"
            }
          },
          "metadata": {},
          "execution_count": 6
        }
      ]
    },
    {
      "cell_type": "code",
      "source": [
        "# correct format is 3-3-4\n",
        "# what could be the pattern that we need to search for in this text,\n",
        "# so that the output is two numbers 555-123-4567, 333-987-6543.\n",
        "\n",
        "pattern = r'\\d{3}-\\d{3}-\\d{4}' # figure out the pattern!\n",
        "\n",
        "matches = re.findall(pattern, text)\n",
        "\n",
        "print(matches)"
      ],
      "metadata": {
        "colab": {
          "base_uri": "https://localhost:8080/"
        },
        "id": "8eEHe_V-lrC1",
        "outputId": "a4b30d3d-0eb9-412e-e664-4337750e6204"
      },
      "execution_count": 7,
      "outputs": [
        {
          "output_type": "stream",
          "name": "stdout",
          "text": [
            "['555-123-4567', '333-987-6543']\n"
          ]
        }
      ]
    },
    {
      "cell_type": "code",
      "source": [
        "# re.search - first occurance of patterns\n",
        "# re.findall - finds all the occurances\n",
        "# re.IGNORECASE - patterns matching is case. -insensitive"
      ],
      "metadata": {
        "id": "iR5sSZyJlbUc"
      },
      "execution_count": null,
      "outputs": []
    },
    {
      "cell_type": "markdown",
      "source": [
        "### Dates pattern matching"
      ],
      "metadata": {
        "id": "ZlXibWK3ppAC"
      }
    },
    {
      "cell_type": "code",
      "source": [
        "dates = \"\"\"\n",
        "My dates are: 05-10-2024 and 2024-10-05\n",
        "\"\"\"\n",
        "\n",
        "# i want to extract only this 05-10-2024 from the text\n",
        "\n",
        "pattern2 = r'\\d{2}-\\d{2}-\\d{4}'\n",
        "matches2 = re.findall(pattern2, dates)\n",
        "print(matches2)"
      ],
      "metadata": {
        "colab": {
          "base_uri": "https://localhost:8080/"
        },
        "id": "OtcEHWgkowDm",
        "outputId": "ef1e7872-d2b5-47b5-ae73-9686a6ac6391"
      },
      "execution_count": 15,
      "outputs": [
        {
          "output_type": "stream",
          "name": "stdout",
          "text": [
            "['05-10-2024']\n"
          ]
        }
      ]
    },
    {
      "cell_type": "markdown",
      "source": [
        "### E-mail address matching"
      ],
      "metadata": {
        "id": "ij3MGgXJrozk"
      }
    },
    {
      "cell_type": "code",
      "source": [
        "emails = \"\"\"\n",
        "Emails: liza@example.com, roberta.murn@gmail.com, info@company.net, liza444@exampl.com\n",
        "\"\"\"\n",
        "\n",
        "# requested output ['liza@example.com', 'roberta@gmail.com', 'info@company.net']\n",
        "\n",
        "pattern3 = rpattern3 = r'\\b[A-Za-z0-9._%+-]+@[A-Za-z0-9.-]+\\.[A-Z|a-z]{2,}\\b'\n",
        "matches3 = re.findall(pattern3, emails)\n",
        "\n",
        "print(matches3)"
      ],
      "metadata": {
        "colab": {
          "base_uri": "https://localhost:8080/"
        },
        "id": "ufk8bkhTrrar",
        "outputId": "d207431d-6517-410d-ad68-c4a87027f044"
      },
      "execution_count": 26,
      "outputs": [
        {
          "output_type": "stream",
          "name": "stdout",
          "text": [
            "['liza@example.com', 'roberta.murn@gmail.com', 'info@company.net', 'liza444@exampl.com']\n"
          ]
        }
      ]
    },
    {
      "cell_type": "code",
      "source": [
        "# other pattern, but if in name is \".\" then it does not work\n",
        "emails = \"\"\"\n",
        "Emails: liza@example.com, roberta.murn@gmail.com, info@company.net, liza444@exampl.com\n",
        "\"\"\"\n",
        "\n",
        "pattern4 = r'\\w+@\\w+\\.\\w+'\n",
        "\n",
        "matches4 = re.findall(pattern4, emails)\n",
        "\n",
        "print(matches4)"
      ],
      "metadata": {
        "colab": {
          "base_uri": "https://localhost:8080/"
        },
        "id": "VHcgSUV3tibO",
        "outputId": "ba91aa95-95de-4c9d-e0ed-cb5fb265311b"
      },
      "execution_count": 27,
      "outputs": [
        {
          "output_type": "stream",
          "name": "stdout",
          "text": [
            "['liza@example.com', 'murn@gmail.com', 'info@company.net', 'liza444@exampl.com']\n"
          ]
        }
      ]
    },
    {
      "cell_type": "code",
      "source": [
        "emails = \"\"\"\n",
        "Emails: liza@example.com, roberta.murn@gmail.com, info@company.net, liza444@exampl.com\n",
        "\"\"\"\n",
        "\n",
        "pattern5 = r'[a-zA-Z0-9._%+-]+@[a-zA-Z0-9.-]+\\.[a-zA-Z]{2,}'\n",
        "\n",
        "matches5 = re.findall(pattern5, emails)\n",
        "\n",
        "print(matches5)"
      ],
      "metadata": {
        "colab": {
          "base_uri": "https://localhost:8080/"
        },
        "id": "CfkI_s15vf5j",
        "outputId": "fe5e1e55-f5b0-490d-b90a-5dc9196a935f"
      },
      "execution_count": 29,
      "outputs": [
        {
          "output_type": "stream",
          "name": "stdout",
          "text": [
            "['liza@example.com', 'roberta.murn@gmail.com', 'info@company.net', 'liza444@exampl.com']\n"
          ]
        }
      ]
    }
  ]
}